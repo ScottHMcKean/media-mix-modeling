{
 "cells": [
  {
   "cell_type": "markdown",
   "metadata": {},
   "source": [
    "## Dataset\n",
    "This section loads the dataset and creates column sets and media definitions."
   ]
  },
  {
   "cell_type": "code",
   "execution_count": 28,
   "metadata": {},
   "outputs": [],
   "source": [
    "from mediamix.datasets import load_he_mmm_dataset, he_mmm_definitions, make_he_mmm_column_sets\n",
    "df = load_he_mmm_dataset()\n",
    "col_sets = make_he_mmm_column_sets(df)\n",
    "df['is_holiday'] = df[col_sets['holiday']].sum(axis=1)"
   ]
  },
  {
   "cell_type": "code",
   "execution_count": 32,
   "metadata": {},
   "outputs": [],
   "source": [
    "df.to_csv('../data/he_mmm_data.csv')"
   ]
  },
  {
   "cell_type": "markdown",
   "metadata": {},
   "source": [
    "## Adstock Estimation\n",
    "This section generates geometric adstock transformations - should randomize the parameters or fit using Bayesian methods."
   ]
  },
  {
   "cell_type": "code",
   "execution_count": 2,
   "metadata": {},
   "outputs": [],
   "source": [
    "import pymc\n",
    "import numpy as np\n",
    "from mediamix.transforms import geometric_adstock, logistic_saturation, hill_saturation"
   ]
  },
  {
   "cell_type": "code",
   "execution_count": 3,
   "metadata": {},
   "outputs": [],
   "source": [
    "for col in col_sets['media_spend']:\n",
    "    df[f'{col}_adstock'] = geometric_adstock(df[col].values, alpha=1, L=12, normalize=False).eval()"
   ]
  },
  {
   "cell_type": "code",
   "execution_count": 4,
   "metadata": {},
   "outputs": [
    {
     "data": {
      "application/vnd.plotly.v1+json": {
       "config": {
        "plotlyServerURL": "https://plot.ly"
       },
       "data": [
        {
         "line": {
          "color": "blue"
         },
         "name": "Original Spend",
         "type": "scatter",
         "x": [
          "2014-08-03T00:00:00",
          "2014-08-10T00:00:00",
          "2014-08-17T00:00:00",
          "2014-08-24T00:00:00",
          "2014-08-31T00:00:00",
          "2014-09-07T00:00:00",
          "2014-09-14T00:00:00",
          "2014-09-21T00:00:00",
          "2014-09-28T00:00:00",
          "2014-10-05T00:00:00",
          "2014-10-12T00:00:00",
          "2014-10-19T00:00:00",
          "2014-10-26T00:00:00",
          "2014-11-02T00:00:00",
          "2014-11-09T00:00:00",
          "2014-11-16T00:00:00",
          "2014-11-23T00:00:00",
          "2014-11-30T00:00:00",
          "2014-12-07T00:00:00",
          "2014-12-14T00:00:00",
          "2014-12-21T00:00:00",
          "2014-12-28T00:00:00",
          "2015-01-04T00:00:00",
          "2015-01-11T00:00:00",
          "2015-01-18T00:00:00",
          "2015-01-25T00:00:00",
          "2015-02-01T00:00:00",
          "2015-02-08T00:00:00",
          "2015-02-15T00:00:00",
          "2015-02-22T00:00:00",
          "2015-03-01T00:00:00",
          "2015-03-08T00:00:00",
          "2015-03-15T00:00:00",
          "2015-03-22T00:00:00",
          "2015-03-29T00:00:00",
          "2015-04-05T00:00:00",
          "2015-04-12T00:00:00",
          "2015-04-19T00:00:00",
          "2015-04-26T00:00:00",
          "2015-05-03T00:00:00",
          "2015-05-10T00:00:00",
          "2015-05-17T00:00:00",
          "2015-05-24T00:00:00",
          "2015-05-31T00:00:00",
          "2015-06-07T00:00:00",
          "2015-06-14T00:00:00",
          "2015-06-21T00:00:00",
          "2015-06-28T00:00:00",
          "2015-07-05T00:00:00",
          "2015-07-12T00:00:00",
          "2015-07-19T00:00:00",
          "2015-07-26T00:00:00",
          "2015-08-02T00:00:00",
          "2015-08-09T00:00:00",
          "2015-08-16T00:00:00",
          "2015-08-23T00:00:00",
          "2015-08-30T00:00:00",
          "2015-09-06T00:00:00",
          "2015-09-13T00:00:00",
          "2015-09-20T00:00:00",
          "2015-09-27T00:00:00",
          "2015-10-04T00:00:00",
          "2015-10-11T00:00:00",
          "2015-10-18T00:00:00",
          "2015-10-25T00:00:00",
          "2015-11-01T00:00:00",
          "2015-11-08T00:00:00",
          "2015-11-15T00:00:00",
          "2015-11-22T00:00:00",
          "2015-11-29T00:00:00",
          "2015-12-06T00:00:00",
          "2015-12-13T00:00:00",
          "2015-12-20T00:00:00",
          "2015-12-27T00:00:00",
          "2016-01-03T00:00:00",
          "2016-01-10T00:00:00",
          "2016-01-17T00:00:00",
          "2016-01-24T00:00:00",
          "2016-01-31T00:00:00",
          "2016-02-07T00:00:00",
          "2016-02-14T00:00:00",
          "2016-02-21T00:00:00",
          "2016-02-28T00:00:00",
          "2016-03-06T00:00:00",
          "2016-03-13T00:00:00",
          "2016-03-20T00:00:00",
          "2016-03-27T00:00:00",
          "2016-04-03T00:00:00",
          "2016-04-10T00:00:00",
          "2016-04-17T00:00:00",
          "2016-04-24T00:00:00",
          "2016-05-01T00:00:00",
          "2016-05-08T00:00:00",
          "2016-05-15T00:00:00",
          "2016-05-22T00:00:00",
          "2016-05-29T00:00:00",
          "2016-06-05T00:00:00",
          "2016-06-12T00:00:00",
          "2016-06-19T00:00:00",
          "2016-06-26T00:00:00",
          "2016-07-03T00:00:00",
          "2016-07-10T00:00:00",
          "2016-07-17T00:00:00",
          "2016-07-24T00:00:00",
          "2016-07-31T00:00:00",
          "2016-08-07T00:00:00",
          "2016-08-14T00:00:00",
          "2016-08-21T00:00:00",
          "2016-08-28T00:00:00",
          "2016-09-04T00:00:00",
          "2016-09-11T00:00:00",
          "2016-09-18T00:00:00",
          "2016-09-25T00:00:00",
          "2016-10-02T00:00:00",
          "2016-10-09T00:00:00",
          "2016-10-16T00:00:00",
          "2016-10-23T00:00:00",
          "2016-10-30T00:00:00",
          "2016-11-06T00:00:00",
          "2016-11-13T00:00:00",
          "2016-11-20T00:00:00",
          "2016-11-27T00:00:00",
          "2016-12-04T00:00:00",
          "2016-12-11T00:00:00",
          "2016-12-18T00:00:00",
          "2016-12-25T00:00:00",
          "2017-01-01T00:00:00",
          "2017-01-08T00:00:00",
          "2017-01-15T00:00:00",
          "2017-01-22T00:00:00",
          "2017-01-29T00:00:00",
          "2017-02-05T00:00:00",
          "2017-02-12T00:00:00",
          "2017-02-19T00:00:00",
          "2017-02-26T00:00:00",
          "2017-03-05T00:00:00",
          "2017-03-12T00:00:00",
          "2017-03-19T00:00:00",
          "2017-03-26T00:00:00",
          "2017-04-02T00:00:00",
          "2017-04-09T00:00:00",
          "2017-04-16T00:00:00",
          "2017-04-23T00:00:00",
          "2017-04-30T00:00:00",
          "2017-05-07T00:00:00",
          "2017-05-14T00:00:00",
          "2017-05-21T00:00:00",
          "2017-05-28T00:00:00",
          "2017-06-04T00:00:00",
          "2017-06-11T00:00:00",
          "2017-06-18T00:00:00",
          "2017-06-25T00:00:00",
          "2017-07-02T00:00:00",
          "2017-07-09T00:00:00",
          "2017-07-16T00:00:00",
          "2017-07-23T00:00:00",
          "2017-07-30T00:00:00",
          "2017-08-06T00:00:00",
          "2017-08-13T00:00:00",
          "2017-08-20T00:00:00",
          "2017-08-27T00:00:00",
          "2017-09-03T00:00:00",
          "2017-09-10T00:00:00",
          "2017-09-17T00:00:00",
          "2017-09-24T00:00:00",
          "2017-10-01T00:00:00",
          "2017-10-08T00:00:00",
          "2017-10-15T00:00:00",
          "2017-10-22T00:00:00",
          "2017-10-29T00:00:00",
          "2017-11-05T00:00:00",
          "2017-11-12T00:00:00",
          "2017-11-19T00:00:00",
          "2017-11-26T00:00:00",
          "2017-12-03T00:00:00",
          "2017-12-10T00:00:00",
          "2017-12-17T00:00:00",
          "2017-12-24T00:00:00",
          "2017-12-31T00:00:00",
          "2018-01-07T00:00:00",
          "2018-01-14T00:00:00",
          "2018-01-21T00:00:00",
          "2018-01-28T00:00:00",
          "2018-02-04T00:00:00",
          "2018-02-11T00:00:00",
          "2018-02-18T00:00:00",
          "2018-02-25T00:00:00",
          "2018-03-04T00:00:00",
          "2018-03-11T00:00:00",
          "2018-03-18T00:00:00",
          "2018-03-25T00:00:00",
          "2018-04-01T00:00:00",
          "2018-04-08T00:00:00",
          "2018-04-15T00:00:00",
          "2018-04-22T00:00:00",
          "2018-04-29T00:00:00",
          "2018-05-06T00:00:00",
          "2018-05-13T00:00:00",
          "2018-05-20T00:00:00",
          "2018-05-27T00:00:00",
          "2018-06-03T00:00:00",
          "2018-06-10T00:00:00",
          "2018-06-17T00:00:00",
          "2018-06-24T00:00:00",
          "2018-07-01T00:00:00",
          "2018-07-08T00:00:00",
          "2018-07-15T00:00:00",
          "2018-07-22T00:00:00",
          "2018-07-29T00:00:00"
         ],
         "xaxis": "x",
         "y": {
          "bdata": "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",
          "dtype": "f8"
         },
         "yaxis": "y"
        },
        {
         "line": {
          "color": "red"
         },
         "name": "Adstocked Spend",
         "type": "scatter",
         "x": [
          "2014-08-03T00:00:00",
          "2014-08-10T00:00:00",
          "2014-08-17T00:00:00",
          "2014-08-24T00:00:00",
          "2014-08-31T00:00:00",
          "2014-09-07T00:00:00",
          "2014-09-14T00:00:00",
          "2014-09-21T00:00:00",
          "2014-09-28T00:00:00",
          "2014-10-05T00:00:00",
          "2014-10-12T00:00:00",
          "2014-10-19T00:00:00",
          "2014-10-26T00:00:00",
          "2014-11-02T00:00:00",
          "2014-11-09T00:00:00",
          "2014-11-16T00:00:00",
          "2014-11-23T00:00:00",
          "2014-11-30T00:00:00",
          "2014-12-07T00:00:00",
          "2014-12-14T00:00:00",
          "2014-12-21T00:00:00",
          "2014-12-28T00:00:00",
          "2015-01-04T00:00:00",
          "2015-01-11T00:00:00",
          "2015-01-18T00:00:00",
          "2015-01-25T00:00:00",
          "2015-02-01T00:00:00",
          "2015-02-08T00:00:00",
          "2015-02-15T00:00:00",
          "2015-02-22T00:00:00",
          "2015-03-01T00:00:00",
          "2015-03-08T00:00:00",
          "2015-03-15T00:00:00",
          "2015-03-22T00:00:00",
          "2015-03-29T00:00:00",
          "2015-04-05T00:00:00",
          "2015-04-12T00:00:00",
          "2015-04-19T00:00:00",
          "2015-04-26T00:00:00",
          "2015-05-03T00:00:00",
          "2015-05-10T00:00:00",
          "2015-05-17T00:00:00",
          "2015-05-24T00:00:00",
          "2015-05-31T00:00:00",
          "2015-06-07T00:00:00",
          "2015-06-14T00:00:00",
          "2015-06-21T00:00:00",
          "2015-06-28T00:00:00",
          "2015-07-05T00:00:00",
          "2015-07-12T00:00:00",
          "2015-07-19T00:00:00",
          "2015-07-26T00:00:00",
          "2015-08-02T00:00:00",
          "2015-08-09T00:00:00",
          "2015-08-16T00:00:00",
          "2015-08-23T00:00:00",
          "2015-08-30T00:00:00",
          "2015-09-06T00:00:00",
          "2015-09-13T00:00:00",
          "2015-09-20T00:00:00",
          "2015-09-27T00:00:00",
          "2015-10-04T00:00:00",
          "2015-10-11T00:00:00",
          "2015-10-18T00:00:00",
          "2015-10-25T00:00:00",
          "2015-11-01T00:00:00",
          "2015-11-08T00:00:00",
          "2015-11-15T00:00:00",
          "2015-11-22T00:00:00",
          "2015-11-29T00:00:00",
          "2015-12-06T00:00:00",
          "2015-12-13T00:00:00",
          "2015-12-20T00:00:00",
          "2015-12-27T00:00:00",
          "2016-01-03T00:00:00",
          "2016-01-10T00:00:00",
          "2016-01-17T00:00:00",
          "2016-01-24T00:00:00",
          "2016-01-31T00:00:00",
          "2016-02-07T00:00:00",
          "2016-02-14T00:00:00",
          "2016-02-21T00:00:00",
          "2016-02-28T00:00:00",
          "2016-03-06T00:00:00",
          "2016-03-13T00:00:00",
          "2016-03-20T00:00:00",
          "2016-03-27T00:00:00",
          "2016-04-03T00:00:00",
          "2016-04-10T00:00:00",
          "2016-04-17T00:00:00",
          "2016-04-24T00:00:00",
          "2016-05-01T00:00:00",
          "2016-05-08T00:00:00",
          "2016-05-15T00:00:00",
          "2016-05-22T00:00:00",
          "2016-05-29T00:00:00",
          "2016-06-05T00:00:00",
          "2016-06-12T00:00:00",
          "2016-06-19T00:00:00",
          "2016-06-26T00:00:00",
          "2016-07-03T00:00:00",
          "2016-07-10T00:00:00",
          "2016-07-17T00:00:00",
          "2016-07-24T00:00:00",
          "2016-07-31T00:00:00",
          "2016-08-07T00:00:00",
          "2016-08-14T00:00:00",
          "2016-08-21T00:00:00",
          "2016-08-28T00:00:00",
          "2016-09-04T00:00:00",
          "2016-09-11T00:00:00",
          "2016-09-18T00:00:00",
          "2016-09-25T00:00:00",
          "2016-10-02T00:00:00",
          "2016-10-09T00:00:00",
          "2016-10-16T00:00:00",
          "2016-10-23T00:00:00",
          "2016-10-30T00:00:00",
          "2016-11-06T00:00:00",
          "2016-11-13T00:00:00",
          "2016-11-20T00:00:00",
          "2016-11-27T00:00:00",
          "2016-12-04T00:00:00",
          "2016-12-11T00:00:00",
          "2016-12-18T00:00:00",
          "2016-12-25T00:00:00",
          "2017-01-01T00:00:00",
          "2017-01-08T00:00:00",
          "2017-01-15T00:00:00",
          "2017-01-22T00:00:00",
          "2017-01-29T00:00:00",
          "2017-02-05T00:00:00",
          "2017-02-12T00:00:00",
          "2017-02-19T00:00:00",
          "2017-02-26T00:00:00",
          "2017-03-05T00:00:00",
          "2017-03-12T00:00:00",
          "2017-03-19T00:00:00",
          "2017-03-26T00:00:00",
          "2017-04-02T00:00:00",
          "2017-04-09T00:00:00",
          "2017-04-16T00:00:00",
          "2017-04-23T00:00:00",
          "2017-04-30T00:00:00",
          "2017-05-07T00:00:00",
          "2017-05-14T00:00:00",
          "2017-05-21T00:00:00",
          "2017-05-28T00:00:00",
          "2017-06-04T00:00:00",
          "2017-06-11T00:00:00",
          "2017-06-18T00:00:00",
          "2017-06-25T00:00:00",
          "2017-07-02T00:00:00",
          "2017-07-09T00:00:00",
          "2017-07-16T00:00:00",
          "2017-07-23T00:00:00",
          "2017-07-30T00:00:00",
          "2017-08-06T00:00:00",
          "2017-08-13T00:00:00",
          "2017-08-20T00:00:00",
          "2017-08-27T00:00:00",
          "2017-09-03T00:00:00",
          "2017-09-10T00:00:00",
          "2017-09-17T00:00:00",
          "2017-09-24T00:00:00",
          "2017-10-01T00:00:00",
          "2017-10-08T00:00:00",
          "2017-10-15T00:00:00",
          "2017-10-22T00:00:00",
          "2017-10-29T00:00:00",
          "2017-11-05T00:00:00",
          "2017-11-12T00:00:00",
          "2017-11-19T00:00:00",
          "2017-11-26T00:00:00",
          "2017-12-03T00:00:00",
          "2017-12-10T00:00:00",
          "2017-12-17T00:00:00",
          "2017-12-24T00:00:00",
          "2017-12-31T00:00:00",
          "2018-01-07T00:00:00",
          "2018-01-14T00:00:00",
          "2018-01-21T00:00:00",
          "2018-01-28T00:00:00",
          "2018-02-04T00:00:00",
          "2018-02-11T00:00:00",
          "2018-02-18T00:00:00",
          "2018-02-25T00:00:00",
          "2018-03-04T00:00:00",
          "2018-03-11T00:00:00",
          "2018-03-18T00:00:00",
          "2018-03-25T00:00:00",
          "2018-04-01T00:00:00",
          "2018-04-08T00:00:00",
          "2018-04-15T00:00:00",
          "2018-04-22T00:00:00",
          "2018-04-29T00:00:00",
          "2018-05-06T00:00:00",
          "2018-05-13T00:00:00",
          "2018-05-20T00:00:00",
          "2018-05-27T00:00:00",
          "2018-06-03T00:00:00",
          "2018-06-10T00:00:00",
          "2018-06-17T00:00:00",
          "2018-06-24T00:00:00",
          "2018-07-01T00:00:00",
          "2018-07-08T00:00:00",
          "2018-07-15T00:00:00",
          "2018-07-22T00:00:00",
          "2018-07-29T00:00:00"
         ],
         "xaxis": "x",
         "y": {
          "bdata": "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",
          "dtype": "f8"
         },
         "yaxis": "y2"
        }
       ],
       "layout": {
        "legend": {
         "orientation": "h",
         "x": 0.5,
         "xanchor": "center",
         "y": -0.2,
         "yanchor": "bottom"
        },
        "margin": {
         "b": 50,
         "l": 50,
         "r": 50,
         "t": 50
        },
        "showlegend": true,
        "template": {
         "data": {
          "bar": [
           {
            "error_x": {
             "color": "#2a3f5f"
            },
            "error_y": {
             "color": "#2a3f5f"
            },
            "marker": {
             "line": {
              "color": "#E5ECF6",
              "width": 0.5
             },
             "pattern": {
              "fillmode": "overlay",
              "size": 10,
              "solidity": 0.2
             }
            },
            "type": "bar"
           }
          ],
          "barpolar": [
           {
            "marker": {
             "line": {
              "color": "#E5ECF6",
              "width": 0.5
             },
             "pattern": {
              "fillmode": "overlay",
              "size": 10,
              "solidity": 0.2
             }
            },
            "type": "barpolar"
           }
          ],
          "carpet": [
           {
            "aaxis": {
             "endlinecolor": "#2a3f5f",
             "gridcolor": "white",
             "linecolor": "white",
             "minorgridcolor": "white",
             "startlinecolor": "#2a3f5f"
            },
            "baxis": {
             "endlinecolor": "#2a3f5f",
             "gridcolor": "white",
             "linecolor": "white",
             "minorgridcolor": "white",
             "startlinecolor": "#2a3f5f"
            },
            "type": "carpet"
           }
          ],
          "choropleth": [
           {
            "colorbar": {
             "outlinewidth": 0,
             "ticks": ""
            },
            "type": "choropleth"
           }
          ],
          "contour": [
           {
            "colorbar": {
             "outlinewidth": 0,
             "ticks": ""
            },
            "colorscale": [
             [
              0,
              "#0d0887"
             ],
             [
              0.1111111111111111,
              "#46039f"
             ],
             [
              0.2222222222222222,
              "#7201a8"
             ],
             [
              0.3333333333333333,
              "#9c179e"
             ],
             [
              0.4444444444444444,
              "#bd3786"
             ],
             [
              0.5555555555555556,
              "#d8576b"
             ],
             [
              0.6666666666666666,
              "#ed7953"
             ],
             [
              0.7777777777777778,
              "#fb9f3a"
             ],
             [
              0.8888888888888888,
              "#fdca26"
             ],
             [
              1,
              "#f0f921"
             ]
            ],
            "type": "contour"
           }
          ],
          "contourcarpet": [
           {
            "colorbar": {
             "outlinewidth": 0,
             "ticks": ""
            },
            "type": "contourcarpet"
           }
          ],
          "heatmap": [
           {
            "colorbar": {
             "outlinewidth": 0,
             "ticks": ""
            },
            "colorscale": [
             [
              0,
              "#0d0887"
             ],
             [
              0.1111111111111111,
              "#46039f"
             ],
             [
              0.2222222222222222,
              "#7201a8"
             ],
             [
              0.3333333333333333,
              "#9c179e"
             ],
             [
              0.4444444444444444,
              "#bd3786"
             ],
             [
              0.5555555555555556,
              "#d8576b"
             ],
             [
              0.6666666666666666,
              "#ed7953"
             ],
             [
              0.7777777777777778,
              "#fb9f3a"
             ],
             [
              0.8888888888888888,
              "#fdca26"
             ],
             [
              1,
              "#f0f921"
             ]
            ],
            "type": "heatmap"
           }
          ],
          "histogram": [
           {
            "marker": {
             "pattern": {
              "fillmode": "overlay",
              "size": 10,
              "solidity": 0.2
             }
            },
            "type": "histogram"
           }
          ],
          "histogram2d": [
           {
            "colorbar": {
             "outlinewidth": 0,
             "ticks": ""
            },
            "colorscale": [
             [
              0,
              "#0d0887"
             ],
             [
              0.1111111111111111,
              "#46039f"
             ],
             [
              0.2222222222222222,
              "#7201a8"
             ],
             [
              0.3333333333333333,
              "#9c179e"
             ],
             [
              0.4444444444444444,
              "#bd3786"
             ],
             [
              0.5555555555555556,
              "#d8576b"
             ],
             [
              0.6666666666666666,
              "#ed7953"
             ],
             [
              0.7777777777777778,
              "#fb9f3a"
             ],
             [
              0.8888888888888888,
              "#fdca26"
             ],
             [
              1,
              "#f0f921"
             ]
            ],
            "type": "histogram2d"
           }
          ],
          "histogram2dcontour": [
           {
            "colorbar": {
             "outlinewidth": 0,
             "ticks": ""
            },
            "colorscale": [
             [
              0,
              "#0d0887"
             ],
             [
              0.1111111111111111,
              "#46039f"
             ],
             [
              0.2222222222222222,
              "#7201a8"
             ],
             [
              0.3333333333333333,
              "#9c179e"
             ],
             [
              0.4444444444444444,
              "#bd3786"
             ],
             [
              0.5555555555555556,
              "#d8576b"
             ],
             [
              0.6666666666666666,
              "#ed7953"
             ],
             [
              0.7777777777777778,
              "#fb9f3a"
             ],
             [
              0.8888888888888888,
              "#fdca26"
             ],
             [
              1,
              "#f0f921"
             ]
            ],
            "type": "histogram2dcontour"
           }
          ],
          "mesh3d": [
           {
            "colorbar": {
             "outlinewidth": 0,
             "ticks": ""
            },
            "type": "mesh3d"
           }
          ],
          "parcoords": [
           {
            "line": {
             "colorbar": {
              "outlinewidth": 0,
              "ticks": ""
             }
            },
            "type": "parcoords"
           }
          ],
          "pie": [
           {
            "automargin": true,
            "type": "pie"
           }
          ],
          "scatter": [
           {
            "fillpattern": {
             "fillmode": "overlay",
             "size": 10,
             "solidity": 0.2
            },
            "type": "scatter"
           }
          ],
          "scatter3d": [
           {
            "line": {
             "colorbar": {
              "outlinewidth": 0,
              "ticks": ""
             }
            },
            "marker": {
             "colorbar": {
              "outlinewidth": 0,
              "ticks": ""
             }
            },
            "type": "scatter3d"
           }
          ],
          "scattercarpet": [
           {
            "marker": {
             "colorbar": {
              "outlinewidth": 0,
              "ticks": ""
             }
            },
            "type": "scattercarpet"
           }
          ],
          "scattergeo": [
           {
            "marker": {
             "colorbar": {
              "outlinewidth": 0,
              "ticks": ""
             }
            },
            "type": "scattergeo"
           }
          ],
          "scattergl": [
           {
            "marker": {
             "colorbar": {
              "outlinewidth": 0,
              "ticks": ""
             }
            },
            "type": "scattergl"
           }
          ],
          "scattermap": [
           {
            "marker": {
             "colorbar": {
              "outlinewidth": 0,
              "ticks": ""
             }
            },
            "type": "scattermap"
           }
          ],
          "scattermapbox": [
           {
            "marker": {
             "colorbar": {
              "outlinewidth": 0,
              "ticks": ""
             }
            },
            "type": "scattermapbox"
           }
          ],
          "scatterpolar": [
           {
            "marker": {
             "colorbar": {
              "outlinewidth": 0,
              "ticks": ""
             }
            },
            "type": "scatterpolar"
           }
          ],
          "scatterpolargl": [
           {
            "marker": {
             "colorbar": {
              "outlinewidth": 0,
              "ticks": ""
             }
            },
            "type": "scatterpolargl"
           }
          ],
          "scatterternary": [
           {
            "marker": {
             "colorbar": {
              "outlinewidth": 0,
              "ticks": ""
             }
            },
            "type": "scatterternary"
           }
          ],
          "surface": [
           {
            "colorbar": {
             "outlinewidth": 0,
             "ticks": ""
            },
            "colorscale": [
             [
              0,
              "#0d0887"
             ],
             [
              0.1111111111111111,
              "#46039f"
             ],
             [
              0.2222222222222222,
              "#7201a8"
             ],
             [
              0.3333333333333333,
              "#9c179e"
             ],
             [
              0.4444444444444444,
              "#bd3786"
             ],
             [
              0.5555555555555556,
              "#d8576b"
             ],
             [
              0.6666666666666666,
              "#ed7953"
             ],
             [
              0.7777777777777778,
              "#fb9f3a"
             ],
             [
              0.8888888888888888,
              "#fdca26"
             ],
             [
              1,
              "#f0f921"
             ]
            ],
            "type": "surface"
           }
          ],
          "table": [
           {
            "cells": {
             "fill": {
              "color": "#EBF0F8"
             },
             "line": {
              "color": "white"
             }
            },
            "header": {
             "fill": {
              "color": "#C8D4E3"
             },
             "line": {
              "color": "white"
             }
            },
            "type": "table"
           }
          ]
         },
         "layout": {
          "annotationdefaults": {
           "arrowcolor": "#2a3f5f",
           "arrowhead": 0,
           "arrowwidth": 1
          },
          "autotypenumbers": "strict",
          "coloraxis": {
           "colorbar": {
            "outlinewidth": 0,
            "ticks": ""
           }
          },
          "colorscale": {
           "diverging": [
            [
             0,
             "#8e0152"
            ],
            [
             0.1,
             "#c51b7d"
            ],
            [
             0.2,
             "#de77ae"
            ],
            [
             0.3,
             "#f1b6da"
            ],
            [
             0.4,
             "#fde0ef"
            ],
            [
             0.5,
             "#f7f7f7"
            ],
            [
             0.6,
             "#e6f5d0"
            ],
            [
             0.7,
             "#b8e186"
            ],
            [
             0.8,
             "#7fbc41"
            ],
            [
             0.9,
             "#4d9221"
            ],
            [
             1,
             "#276419"
            ]
           ],
           "sequential": [
            [
             0,
             "#0d0887"
            ],
            [
             0.1111111111111111,
             "#46039f"
            ],
            [
             0.2222222222222222,
             "#7201a8"
            ],
            [
             0.3333333333333333,
             "#9c179e"
            ],
            [
             0.4444444444444444,
             "#bd3786"
            ],
            [
             0.5555555555555556,
             "#d8576b"
            ],
            [
             0.6666666666666666,
             "#ed7953"
            ],
            [
             0.7777777777777778,
             "#fb9f3a"
            ],
            [
             0.8888888888888888,
             "#fdca26"
            ],
            [
             1,
             "#f0f921"
            ]
           ],
           "sequentialminus": [
            [
             0,
             "#0d0887"
            ],
            [
             0.1111111111111111,
             "#46039f"
            ],
            [
             0.2222222222222222,
             "#7201a8"
            ],
            [
             0.3333333333333333,
             "#9c179e"
            ],
            [
             0.4444444444444444,
             "#bd3786"
            ],
            [
             0.5555555555555556,
             "#d8576b"
            ],
            [
             0.6666666666666666,
             "#ed7953"
            ],
            [
             0.7777777777777778,
             "#fb9f3a"
            ],
            [
             0.8888888888888888,
             "#fdca26"
            ],
            [
             1,
             "#f0f921"
            ]
           ]
          },
          "colorway": [
           "#636efa",
           "#EF553B",
           "#00cc96",
           "#ab63fa",
           "#FFA15A",
           "#19d3f3",
           "#FF6692",
           "#B6E880",
           "#FF97FF",
           "#FECB52"
          ],
          "font": {
           "color": "#2a3f5f"
          },
          "geo": {
           "bgcolor": "white",
           "lakecolor": "white",
           "landcolor": "#E5ECF6",
           "showlakes": true,
           "showland": true,
           "subunitcolor": "white"
          },
          "hoverlabel": {
           "align": "left"
          },
          "hovermode": "closest",
          "mapbox": {
           "style": "light"
          },
          "paper_bgcolor": "white",
          "plot_bgcolor": "#E5ECF6",
          "polar": {
           "angularaxis": {
            "gridcolor": "white",
            "linecolor": "white",
            "ticks": ""
           },
           "bgcolor": "#E5ECF6",
           "radialaxis": {
            "gridcolor": "white",
            "linecolor": "white",
            "ticks": ""
           }
          },
          "scene": {
           "xaxis": {
            "backgroundcolor": "#E5ECF6",
            "gridcolor": "white",
            "gridwidth": 2,
            "linecolor": "white",
            "showbackground": true,
            "ticks": "",
            "zerolinecolor": "white"
           },
           "yaxis": {
            "backgroundcolor": "#E5ECF6",
            "gridcolor": "white",
            "gridwidth": 2,
            "linecolor": "white",
            "showbackground": true,
            "ticks": "",
            "zerolinecolor": "white"
           },
           "zaxis": {
            "backgroundcolor": "#E5ECF6",
            "gridcolor": "white",
            "gridwidth": 2,
            "linecolor": "white",
            "showbackground": true,
            "ticks": "",
            "zerolinecolor": "white"
           }
          },
          "shapedefaults": {
           "line": {
            "color": "#2a3f5f"
           }
          },
          "ternary": {
           "aaxis": {
            "gridcolor": "white",
            "linecolor": "white",
            "ticks": ""
           },
           "baxis": {
            "gridcolor": "white",
            "linecolor": "white",
            "ticks": ""
           },
           "bgcolor": "#E5ECF6",
           "caxis": {
            "gridcolor": "white",
            "linecolor": "white",
            "ticks": ""
           }
          },
          "title": {
           "x": 0.05
          },
          "xaxis": {
           "automargin": true,
           "gridcolor": "white",
           "linecolor": "white",
           "ticks": "",
           "title": {
            "standoff": 15
           },
           "zerolinecolor": "white",
           "zerolinewidth": 2
          },
          "yaxis": {
           "automargin": true,
           "gridcolor": "white",
           "linecolor": "white",
           "ticks": "",
           "title": {
            "standoff": 15
           },
           "zerolinecolor": "white",
           "zerolinewidth": 2
          }
         }
        },
        "xaxis": {
         "anchor": "y",
         "domain": [
          0,
          0.94
         ]
        },
        "yaxis": {
         "anchor": "x",
         "domain": [
          0,
          1
         ],
         "title": {
          "text": "Media Spend ($)"
         }
        },
        "yaxis2": {
         "anchor": "x",
         "overlaying": "y",
         "side": "right",
         "title": {
          "text": "Adstocked Spend ($)"
         }
        }
       }
      }
     },
     "metadata": {},
     "output_type": "display_data"
    }
   ],
   "source": [
    "import plotly.graph_objects as go\n",
    "from plotly.subplots import make_subplots\n",
    "\n",
    "media = 'vidtr'\n",
    "spend_col = f'mdsp_{media}'\n",
    "adstock_col = f'mdsp_{media}_adstock'\n",
    "\n",
    "fig = make_subplots(specs=[[{\"secondary_y\": True}]])\n",
    "\n",
    "fig.add_trace(\n",
    "    go.Scatter(x=df.index, y=df[spend_col], name=\"Original Spend\", line=dict(color='blue')),\n",
    "    secondary_y=False\n",
    ")\n",
    "\n",
    "fig.add_trace(\n",
    "    go.Scatter(x=df.index, y=df[adstock_col], name=\"Adstocked Spend\", line=dict(color='red')),\n",
    "    secondary_y=True\n",
    ")\n",
    "\n",
    "fig.update_layout(\n",
    "    showlegend=True,\n",
    "    legend=dict(\n",
    "        orientation=\"h\",\n",
    "        yanchor=\"bottom\",\n",
    "        y=-0.2,\n",
    "        xanchor=\"center\",\n",
    "        x=0.5\n",
    "    ),\n",
    "    margin=dict(l=50, r=50, t=50, b=50)\n",
    ")\n",
    "\n",
    "fig.update_yaxes(title_text=\"Media Spend ($)\", secondary_y=False)\n",
    "fig.update_yaxes(title_text=\"Adstocked Spend ($)\", secondary_y=True)\n",
    "fig.show()\n"
   ]
  },
  {
   "cell_type": "markdown",
   "metadata": {},
   "source": [
    "## Saturation Estimation\n",
    "This section generates hill saturation transformations - should randomize the parameters or fit using Bayesian methods."
   ]
  },
  {
   "cell_type": "code",
   "execution_count": 5,
   "metadata": {},
   "outputs": [],
   "source": [
    "# Store the saturation parameters for optimization later\n",
    "saturation_params = {}\n",
    "\n",
    "# Apply saturation transformation to adstocked media variables\n",
    "for col in col_sets['media_spend']:\n",
    "    adstock_col = f'{col}_adstock'\n",
    "    # Scale the data to find a good k value (half saturation point)\n",
    "    k_value = df[adstock_col].max() * 0.5\n",
    "    s_value = 0.7  # Default slope parameter\n",
    "    \n",
    "    # Store parameters for later optimization\n",
    "    saturation_params[col] = {'k': k_value, 's': s_value}\n",
    "    \n",
    "    # Apply hill transformation\n",
    "    df[f'{col}_transformed'] = hill_saturation(df[adstock_col].values, k=k_value, s=s_value).eval()"
   ]
  },
  {
   "cell_type": "code",
   "execution_count": 6,
   "metadata": {},
   "outputs": [
    {
     "data": {
      "application/vnd.plotly.v1+json": {
       "config": {
        "plotlyServerURL": "https://plot.ly"
       },
       "data": [
        {
         "mode": "markers",
         "name": "Transformed vs Adstocked",
         "type": "scatter",
         "x": {
          "bdata": "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",
          "dtype": "f8"
         },
         "y": {
          "bdata": "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",
          "dtype": "f8"
         }
        }
       ],
       "layout": {
        "margin": {
         "b": 50,
         "l": 50,
         "r": 50,
         "t": 50
        },
        "showlegend": false,
        "template": {
         "data": {
          "bar": [
           {
            "error_x": {
             "color": "#2a3f5f"
            },
            "error_y": {
             "color": "#2a3f5f"
            },
            "marker": {
             "line": {
              "color": "#E5ECF6",
              "width": 0.5
             },
             "pattern": {
              "fillmode": "overlay",
              "size": 10,
              "solidity": 0.2
             }
            },
            "type": "bar"
           }
          ],
          "barpolar": [
           {
            "marker": {
             "line": {
              "color": "#E5ECF6",
              "width": 0.5
             },
             "pattern": {
              "fillmode": "overlay",
              "size": 10,
              "solidity": 0.2
             }
            },
            "type": "barpolar"
           }
          ],
          "carpet": [
           {
            "aaxis": {
             "endlinecolor": "#2a3f5f",
             "gridcolor": "white",
             "linecolor": "white",
             "minorgridcolor": "white",
             "startlinecolor": "#2a3f5f"
            },
            "baxis": {
             "endlinecolor": "#2a3f5f",
             "gridcolor": "white",
             "linecolor": "white",
             "minorgridcolor": "white",
             "startlinecolor": "#2a3f5f"
            },
            "type": "carpet"
           }
          ],
          "choropleth": [
           {
            "colorbar": {
             "outlinewidth": 0,
             "ticks": ""
            },
            "type": "choropleth"
           }
          ],
          "contour": [
           {
            "colorbar": {
             "outlinewidth": 0,
             "ticks": ""
            },
            "colorscale": [
             [
              0,
              "#0d0887"
             ],
             [
              0.1111111111111111,
              "#46039f"
             ],
             [
              0.2222222222222222,
              "#7201a8"
             ],
             [
              0.3333333333333333,
              "#9c179e"
             ],
             [
              0.4444444444444444,
              "#bd3786"
             ],
             [
              0.5555555555555556,
              "#d8576b"
             ],
             [
              0.6666666666666666,
              "#ed7953"
             ],
             [
              0.7777777777777778,
              "#fb9f3a"
             ],
             [
              0.8888888888888888,
              "#fdca26"
             ],
             [
              1,
              "#f0f921"
             ]
            ],
            "type": "contour"
           }
          ],
          "contourcarpet": [
           {
            "colorbar": {
             "outlinewidth": 0,
             "ticks": ""
            },
            "type": "contourcarpet"
           }
          ],
          "heatmap": [
           {
            "colorbar": {
             "outlinewidth": 0,
             "ticks": ""
            },
            "colorscale": [
             [
              0,
              "#0d0887"
             ],
             [
              0.1111111111111111,
              "#46039f"
             ],
             [
              0.2222222222222222,
              "#7201a8"
             ],
             [
              0.3333333333333333,
              "#9c179e"
             ],
             [
              0.4444444444444444,
              "#bd3786"
             ],
             [
              0.5555555555555556,
              "#d8576b"
             ],
             [
              0.6666666666666666,
              "#ed7953"
             ],
             [
              0.7777777777777778,
              "#fb9f3a"
             ],
             [
              0.8888888888888888,
              "#fdca26"
             ],
             [
              1,
              "#f0f921"
             ]
            ],
            "type": "heatmap"
           }
          ],
          "histogram": [
           {
            "marker": {
             "pattern": {
              "fillmode": "overlay",
              "size": 10,
              "solidity": 0.2
             }
            },
            "type": "histogram"
           }
          ],
          "histogram2d": [
           {
            "colorbar": {
             "outlinewidth": 0,
             "ticks": ""
            },
            "colorscale": [
             [
              0,
              "#0d0887"
             ],
             [
              0.1111111111111111,
              "#46039f"
             ],
             [
              0.2222222222222222,
              "#7201a8"
             ],
             [
              0.3333333333333333,
              "#9c179e"
             ],
             [
              0.4444444444444444,
              "#bd3786"
             ],
             [
              0.5555555555555556,
              "#d8576b"
             ],
             [
              0.6666666666666666,
              "#ed7953"
             ],
             [
              0.7777777777777778,
              "#fb9f3a"
             ],
             [
              0.8888888888888888,
              "#fdca26"
             ],
             [
              1,
              "#f0f921"
             ]
            ],
            "type": "histogram2d"
           }
          ],
          "histogram2dcontour": [
           {
            "colorbar": {
             "outlinewidth": 0,
             "ticks": ""
            },
            "colorscale": [
             [
              0,
              "#0d0887"
             ],
             [
              0.1111111111111111,
              "#46039f"
             ],
             [
              0.2222222222222222,
              "#7201a8"
             ],
             [
              0.3333333333333333,
              "#9c179e"
             ],
             [
              0.4444444444444444,
              "#bd3786"
             ],
             [
              0.5555555555555556,
              "#d8576b"
             ],
             [
              0.6666666666666666,
              "#ed7953"
             ],
             [
              0.7777777777777778,
              "#fb9f3a"
             ],
             [
              0.8888888888888888,
              "#fdca26"
             ],
             [
              1,
              "#f0f921"
             ]
            ],
            "type": "histogram2dcontour"
           }
          ],
          "mesh3d": [
           {
            "colorbar": {
             "outlinewidth": 0,
             "ticks": ""
            },
            "type": "mesh3d"
           }
          ],
          "parcoords": [
           {
            "line": {
             "colorbar": {
              "outlinewidth": 0,
              "ticks": ""
             }
            },
            "type": "parcoords"
           }
          ],
          "pie": [
           {
            "automargin": true,
            "type": "pie"
           }
          ],
          "scatter": [
           {
            "fillpattern": {
             "fillmode": "overlay",
             "size": 10,
             "solidity": 0.2
            },
            "type": "scatter"
           }
          ],
          "scatter3d": [
           {
            "line": {
             "colorbar": {
              "outlinewidth": 0,
              "ticks": ""
             }
            },
            "marker": {
             "colorbar": {
              "outlinewidth": 0,
              "ticks": ""
             }
            },
            "type": "scatter3d"
           }
          ],
          "scattercarpet": [
           {
            "marker": {
             "colorbar": {
              "outlinewidth": 0,
              "ticks": ""
             }
            },
            "type": "scattercarpet"
           }
          ],
          "scattergeo": [
           {
            "marker": {
             "colorbar": {
              "outlinewidth": 0,
              "ticks": ""
             }
            },
            "type": "scattergeo"
           }
          ],
          "scattergl": [
           {
            "marker": {
             "colorbar": {
              "outlinewidth": 0,
              "ticks": ""
             }
            },
            "type": "scattergl"
           }
          ],
          "scattermap": [
           {
            "marker": {
             "colorbar": {
              "outlinewidth": 0,
              "ticks": ""
             }
            },
            "type": "scattermap"
           }
          ],
          "scattermapbox": [
           {
            "marker": {
             "colorbar": {
              "outlinewidth": 0,
              "ticks": ""
             }
            },
            "type": "scattermapbox"
           }
          ],
          "scatterpolar": [
           {
            "marker": {
             "colorbar": {
              "outlinewidth": 0,
              "ticks": ""
             }
            },
            "type": "scatterpolar"
           }
          ],
          "scatterpolargl": [
           {
            "marker": {
             "colorbar": {
              "outlinewidth": 0,
              "ticks": ""
             }
            },
            "type": "scatterpolargl"
           }
          ],
          "scatterternary": [
           {
            "marker": {
             "colorbar": {
              "outlinewidth": 0,
              "ticks": ""
             }
            },
            "type": "scatterternary"
           }
          ],
          "surface": [
           {
            "colorbar": {
             "outlinewidth": 0,
             "ticks": ""
            },
            "colorscale": [
             [
              0,
              "#0d0887"
             ],
             [
              0.1111111111111111,
              "#46039f"
             ],
             [
              0.2222222222222222,
              "#7201a8"
             ],
             [
              0.3333333333333333,
              "#9c179e"
             ],
             [
              0.4444444444444444,
              "#bd3786"
             ],
             [
              0.5555555555555556,
              "#d8576b"
             ],
             [
              0.6666666666666666,
              "#ed7953"
             ],
             [
              0.7777777777777778,
              "#fb9f3a"
             ],
             [
              0.8888888888888888,
              "#fdca26"
             ],
             [
              1,
              "#f0f921"
             ]
            ],
            "type": "surface"
           }
          ],
          "table": [
           {
            "cells": {
             "fill": {
              "color": "#EBF0F8"
             },
             "line": {
              "color": "white"
             }
            },
            "header": {
             "fill": {
              "color": "#C8D4E3"
             },
             "line": {
              "color": "white"
             }
            },
            "type": "table"
           }
          ]
         },
         "layout": {
          "annotationdefaults": {
           "arrowcolor": "#2a3f5f",
           "arrowhead": 0,
           "arrowwidth": 1
          },
          "autotypenumbers": "strict",
          "coloraxis": {
           "colorbar": {
            "outlinewidth": 0,
            "ticks": ""
           }
          },
          "colorscale": {
           "diverging": [
            [
             0,
             "#8e0152"
            ],
            [
             0.1,
             "#c51b7d"
            ],
            [
             0.2,
             "#de77ae"
            ],
            [
             0.3,
             "#f1b6da"
            ],
            [
             0.4,
             "#fde0ef"
            ],
            [
             0.5,
             "#f7f7f7"
            ],
            [
             0.6,
             "#e6f5d0"
            ],
            [
             0.7,
             "#b8e186"
            ],
            [
             0.8,
             "#7fbc41"
            ],
            [
             0.9,
             "#4d9221"
            ],
            [
             1,
             "#276419"
            ]
           ],
           "sequential": [
            [
             0,
             "#0d0887"
            ],
            [
             0.1111111111111111,
             "#46039f"
            ],
            [
             0.2222222222222222,
             "#7201a8"
            ],
            [
             0.3333333333333333,
             "#9c179e"
            ],
            [
             0.4444444444444444,
             "#bd3786"
            ],
            [
             0.5555555555555556,
             "#d8576b"
            ],
            [
             0.6666666666666666,
             "#ed7953"
            ],
            [
             0.7777777777777778,
             "#fb9f3a"
            ],
            [
             0.8888888888888888,
             "#fdca26"
            ],
            [
             1,
             "#f0f921"
            ]
           ],
           "sequentialminus": [
            [
             0,
             "#0d0887"
            ],
            [
             0.1111111111111111,
             "#46039f"
            ],
            [
             0.2222222222222222,
             "#7201a8"
            ],
            [
             0.3333333333333333,
             "#9c179e"
            ],
            [
             0.4444444444444444,
             "#bd3786"
            ],
            [
             0.5555555555555556,
             "#d8576b"
            ],
            [
             0.6666666666666666,
             "#ed7953"
            ],
            [
             0.7777777777777778,
             "#fb9f3a"
            ],
            [
             0.8888888888888888,
             "#fdca26"
            ],
            [
             1,
             "#f0f921"
            ]
           ]
          },
          "colorway": [
           "#636efa",
           "#EF553B",
           "#00cc96",
           "#ab63fa",
           "#FFA15A",
           "#19d3f3",
           "#FF6692",
           "#B6E880",
           "#FF97FF",
           "#FECB52"
          ],
          "font": {
           "color": "#2a3f5f"
          },
          "geo": {
           "bgcolor": "white",
           "lakecolor": "white",
           "landcolor": "#E5ECF6",
           "showlakes": true,
           "showland": true,
           "subunitcolor": "white"
          },
          "hoverlabel": {
           "align": "left"
          },
          "hovermode": "closest",
          "mapbox": {
           "style": "light"
          },
          "paper_bgcolor": "white",
          "plot_bgcolor": "#E5ECF6",
          "polar": {
           "angularaxis": {
            "gridcolor": "white",
            "linecolor": "white",
            "ticks": ""
           },
           "bgcolor": "#E5ECF6",
           "radialaxis": {
            "gridcolor": "white",
            "linecolor": "white",
            "ticks": ""
           }
          },
          "scene": {
           "xaxis": {
            "backgroundcolor": "#E5ECF6",
            "gridcolor": "white",
            "gridwidth": 2,
            "linecolor": "white",
            "showbackground": true,
            "ticks": "",
            "zerolinecolor": "white"
           },
           "yaxis": {
            "backgroundcolor": "#E5ECF6",
            "gridcolor": "white",
            "gridwidth": 2,
            "linecolor": "white",
            "showbackground": true,
            "ticks": "",
            "zerolinecolor": "white"
           },
           "zaxis": {
            "backgroundcolor": "#E5ECF6",
            "gridcolor": "white",
            "gridwidth": 2,
            "linecolor": "white",
            "showbackground": true,
            "ticks": "",
            "zerolinecolor": "white"
           }
          },
          "shapedefaults": {
           "line": {
            "color": "#2a3f5f"
           }
          },
          "ternary": {
           "aaxis": {
            "gridcolor": "white",
            "linecolor": "white",
            "ticks": ""
           },
           "baxis": {
            "gridcolor": "white",
            "linecolor": "white",
            "ticks": ""
           },
           "bgcolor": "#E5ECF6",
           "caxis": {
            "gridcolor": "white",
            "linecolor": "white",
            "ticks": ""
           }
          },
          "title": {
           "x": 0.05
          },
          "xaxis": {
           "automargin": true,
           "gridcolor": "white",
           "linecolor": "white",
           "ticks": "",
           "title": {
            "standoff": 15
           },
           "zerolinecolor": "white",
           "zerolinewidth": 2
          },
          "yaxis": {
           "automargin": true,
           "gridcolor": "white",
           "linecolor": "white",
           "ticks": "",
           "title": {
            "standoff": 15
           },
           "zerolinecolor": "white",
           "zerolinewidth": 2
          }
         }
        },
        "xaxis": {
         "title": {
          "text": "Adstocked Spend"
         }
        },
        "yaxis": {
         "title": {
          "text": "Effectivenss"
         }
        }
       }
      }
     },
     "metadata": {},
     "output_type": "display_data"
    }
   ],
   "source": [
    "media = 'vidtr'\n",
    "spend_col = f'mdsp_{media}'\n",
    "adstock_col = f'mdsp_{media}_adstock'\n",
    "hill_col = f'mdsp_{media}_transformed'\n",
    "\n",
    "fig = go.Figure()\n",
    "\n",
    "fig.add_trace(go.Scatter(\n",
    "    x=df[adstock_col],\n",
    "    y=df[hill_col],\n",
    "    mode='markers',\n",
    "    name='Transformed vs Adstocked'\n",
    "))\n",
    "\n",
    "fig.update_layout(\n",
    "    xaxis_title=f'Adstocked Spend',\n",
    "    yaxis_title=f'Effectivenss',\n",
    "    showlegend=False,\n",
    "    margin=dict(l=50, r=50, t=50, b=50)\n",
    ")\n",
    "\n",
    "fig.show()\n"
   ]
  },
  {
   "cell_type": "markdown",
   "metadata": {},
   "source": [
    "## Combined Model\n",
    "Once we have transformed columns, we can use them in a global model to attribute sales to each media channel. We will use this model for optimization as well.\n",
    "\n",
    "We actually need two models to get the differential uplift from media spend - a base or control model without any media variables, and a media marketing model. We will then decompose the effects of the marketing spend. But we can simplify by controlling for our base variables within multivariate regression."
   ]
  },
  {
   "cell_type": "markdown",
   "metadata": {},
   "source": [
    "### Base Model\n",
    "For the base model, we will use the macro-economic variables, store count, markdown discount, and whether it is a holidary or not. Five features with sales as our target."
   ]
  },
  {
   "cell_type": "code",
   "execution_count": 7,
   "metadata": {},
   "outputs": [],
   "source": [
    "from sklearn.linear_model import LinearRegression\n",
    "from sklearn.model_selection import train_test_split\n",
    "from sklearn.metrics import r2_score, mean_absolute_error, mean_absolute_percentage_error"
   ]
  },
  {
   "cell_type": "code",
   "execution_count": 8,
   "metadata": {},
   "outputs": [],
   "source": [
    "control_cols = col_sets['macro_economics'] + col_sets['store_count'] + col_sets['markdown_discount'] + ['is_holiday']\n",
    "transformed_media_cols = [f'{col}_transformed' for col in col_sets['media_spend']]\n",
    "model_features = transformed_media_cols + control_cols\n",
    "\n",
    "X = df[model_features]\n",
    "y = df['sales']\n",
    "\n",
    "X_train, X_test, y_train, y_test = train_test_split(X, y, test_size=0.2, shuffle=False)"
   ]
  },
  {
   "cell_type": "code",
   "execution_count": 9,
   "metadata": {},
   "outputs": [
    {
     "name": "stdout",
     "output_type": "stream",
     "text": [
      "Positive Constrained Model R²: -1.386\n",
      "MAE: 71,137,343\n",
      "\n",
      "Positive Coefficients Only:\n",
      "                    Feature   Coefficient\n",
      "14                mrkdn_pdm  1.401692e+09\n",
      "8       mdsp_on_transformed  5.105790e+08\n",
      "9      mdsp_sem_transformed  4.560394e+08\n",
      "13         mrkdn_valadd_edw  1.290152e+08\n",
      "11               me_gas_dpg  5.592724e+07\n",
      "2      mdsp_nsp_transformed  5.095061e+07\n",
      "7       mdsp_so_transformed  4.954307e+07\n",
      "1     mdsp_inst_transformed  2.704922e+07\n",
      "4    mdsp_audtr_transformed  1.992770e+07\n",
      "15               is_holiday  1.245790e+07\n",
      "6   mdsp_viddig_transformed  2.782175e+06\n",
      "12                    st_ct  3.814558e+05\n",
      "0       mdsp_dm_transformed  0.000000e+00\n",
      "3   mdsp_auddig_transformed  0.000000e+00\n",
      "5    mdsp_vidtr_transformed  0.000000e+00\n"
     ]
    }
   ],
   "source": [
    "from scipy.optimize import minimize\n",
    "import numpy as np\n",
    "import pandas as pd\n",
    "from sklearn.base import BaseEstimator, RegressorMixin\n",
    "\n",
    "class PositiveMMM(BaseEstimator, RegressorMixin):\n",
    "    \"\"\"Constrained regression for positive channel contributions\"\"\"\n",
    "    def __init__(self, media_idx, max_iter=1000):\n",
    "        self.media_idx = media_idx  # Indices of media features\n",
    "        self.max_iter = max_iter\n",
    "        \n",
    "    def fit(self, X, y):\n",
    "        X = np.column_stack([np.ones(len(X)), X])  # Add intercept\n",
    "        initial_coef = np.linalg.lstsq(X, y, rcond=None)[0]\n",
    "        \n",
    "        # Set bounds: intercept (no bounds) + media (positive) + other features (no bounds)\n",
    "        bounds = [(None, None)] + [\n",
    "            (0, None) if i in self.media_idx else (None, None) \n",
    "            for i in range(X.shape[1]-1)\n",
    "        ]\n",
    "        \n",
    "        def loss(coef):\n",
    "            return np.sum((y - X.dot(coef)) ** 2)\n",
    "            \n",
    "        result = minimize(loss, initial_coef, \n",
    "                         bounds=bounds,\n",
    "                         method='L-BFGS-B',\n",
    "                         options={'maxiter': self.max_iter})\n",
    "        \n",
    "        self.coef_ = result.x[1:]\n",
    "        self.intercept_ = result.x[0]\n",
    "        return self\n",
    "        \n",
    "    def predict(self, X):\n",
    "        return self.intercept_ + X.dot(self.coef_)\n",
    "\n",
    "# Identify media feature indices (first n features)\n",
    "transformed_media_cols = [f'{col}_transformed' for col in col_sets['media_spend']]\n",
    "media_idx = [model_features.index(col) for col in transformed_media_cols]\n",
    "\n",
    "# Initialize and fit model\n",
    "model = PositiveMMM(media_idx=media_idx)\n",
    "model.fit(X_train.values, y_train.values)\n",
    "\n",
    "# Evaluate model\n",
    "y_pred = model.predict(X_test.values)\n",
    "r2 = r2_score(y_test, y_pred)\n",
    "mae = mean_absolute_error(y_test, y_pred)\n",
    "\n",
    "print(f\"Positive Constrained Model R²: {r2:.3f}\")\n",
    "print(f\"MAE: {mae:,.0f}\")\n",
    "\n",
    "# Verify positive coefficients\n",
    "coef_df = pd.DataFrame({\n",
    "    'Feature': model_features,\n",
    "    'Coefficient': model.coef_\n",
    "}).sort_values('Coefficient', ascending=False)\n",
    "\n",
    "print(\"\\nPositive Coefficients Only:\")\n",
    "print(coef_df.query('Coefficient >= 0'))"
   ]
  },
  {
   "cell_type": "markdown",
   "metadata": {},
   "source": [
    "### Response Curves\n",
    "These should be nonlinear, but we can approximate them with a linear model."
   ]
  },
  {
   "cell_type": "code",
   "execution_count": 10,
   "metadata": {},
   "outputs": [],
   "source": [
    "# Function to calculate response curves\n",
    "def calculate_response_curve(model, X_mean, col_name, points=20):\n",
    "    \"\"\"Generate response curve for a specific feature\"\"\"\n",
    "    feature_min = max(0, X[col_name].min())\n",
    "    feature_max = X[col_name].max() * 1.5  # Extend a bit beyond observed data\n",
    "    \n",
    "    x_points = np.linspace(feature_min, feature_max, points)\n",
    "    y_responses = []\n",
    "    \n",
    "    for x in x_points:\n",
    "        X_sim = X_mean.copy()\n",
    "        X_sim[col_name] = x\n",
    "        y_responses.append(model.predict(X_sim)[0])\n",
    "    \n",
    "    return x_points, np.array(y_responses)\n",
    "\n",
    "def generate_response_curves(model, X_train, transformed_media_cols, model_features):\n",
    "    # Get average value for all features\n",
    "    X_mean = X_train.mean().to_frame().T\n",
    "    # Calculate response curves for all media channels\n",
    "    response_data = []\n",
    "    for i, col_name in enumerate(transformed_media_cols):\n",
    "        original_col = col_name.replace('_transformed', '')\n",
    "        feature_index = model_features.index(col_name)\n",
    "        \n",
    "        x_points, y_responses = calculate_response_curve(model, X_mean, col_name)\n",
    "        \n",
    "        # Calculate incremental contribution\n",
    "        baseline = (model.predict(X_mean)[0] - model.coef_[feature_index] * X_mean[col_name])[0]\n",
    "        y_incremental = [y - baseline for y in y_responses]\n",
    "        \n",
    "        # Create rows for each point\n",
    "        for x, y in zip(x_points, y_incremental):\n",
    "            response_data.append({\n",
    "                'Channel': original_col,\n",
    "                'Media_Spend': x,\n",
    "                'Incremental_Sales': y\n",
    "            })\n",
    "\n",
    "    return pd.DataFrame(response_data)\n"
   ]
  },
  {
   "cell_type": "code",
   "execution_count": 11,
   "metadata": {},
   "outputs": [],
   "source": [
    "response_curves = generate_response_curves(model, X_train, transformed_media_cols, model_features)"
   ]
  },
  {
   "cell_type": "code",
   "execution_count": 12,
   "metadata": {},
   "outputs": [
    {
     "data": {
      "application/vnd.plotly.v1+json": {
       "config": {
        "plotlyServerURL": "https://plot.ly"
       },
       "data": [
        {
         "hovertemplate": "Channel=mdsp_dm<br>Media Spend (Transformed)=%{x}<br>Incremental Sales=%{y}<extra></extra>",
         "legendgroup": "mdsp_dm",
         "line": {
          "color": "#636efa",
          "dash": "solid"
         },
         "marker": {
          "symbol": "circle"
         },
         "mode": "lines",
         "name": "mdsp_dm",
         "orientation": "v",
         "showlegend": true,
         "type": "scatter",
         "x": {
          "bdata": "Lg1HMm0JxD9evyfitjzJP49xCJIAcM4/4JH0IKXR0T/46uT4SWvUPxBE1dDuBNc/KJ3FqJOe2T9B9rWAODjcP1lPpljd0d4/OFRLGMG14D/EgEOEkwLiP1GtO/BlT+M/3dkzXDic5D9qBizICunlP/YyJDTdNec/gl8coK+C6D8OjBQMgs/pP5q4DHhUHOs/JuUE5CZp7D+yEf1P+bXtPw==",
          "dtype": "f8"
         },
         "xaxis": "x",
         "y": {
          "bdata": "AAAAAAAAAAAAAAAAAAAAAAAAAAAAAAAAAAAAAAAAAAAAAAAAAAAAAAAAAAAAAAAAAAAAAAAAAAAAAAAAAAAAAAAAAAAAAAAAAAAAAAAAAAAAAAAAAAAAAAAAAAAAAAAAAAAAAAAAAAAAAAAAAAAAAAAAAAAAAAAAAAAAAAAAAAAAAAAAAAAAAAAAAAAAAAAAAAAAAAAAAAAAAAAAAAAAAA==",
          "dtype": "f8"
         },
         "yaxis": "y"
        },
        {
         "hovertemplate": "Channel=mdsp_inst<br>Media Spend (Transformed)=%{x}<br>Incremental Sales=%{y}<extra></extra>",
         "legendgroup": "mdsp_inst",
         "line": {
          "color": "#EF553B",
          "dash": "solid"
         },
         "marker": {
          "symbol": "circle"
         },
         "mode": "lines",
         "name": "mdsp_inst",
         "orientation": "v",
         "showlegend": true,
         "type": "scatter",
         "x": {
          "bdata": "QCckkHFqxj8fveuLrX3LP3+p2cN0SNA/bnS9wRLS0j9eP6G/sFvVP00Khb1O5dc/PNVou+xu2j8soEy5ivjcPxtrMLcogt8/BRuKWuMF4T99AHxZskriP/TlbViBj+M/bMtfV1DU5D/ksFFWHxnmP1yWQ1XuXec/03s1VL2i6D9LYSdTjOfpP8NGGVJbLOs/OiwLUSpx7D+yEf1P+bXtPw==",
          "dtype": "f8"
         },
         "xaxis": "x",
         "y": {
          "bdata": "gB3Xxu0RUkGAIvWqRylWQYAnE4+hQFpBgCwxc/tXXkGAmKerqjdhQQCbtp1XQ2NBgJ3FjwRPZUEAoNSBsVpnQYCi43NeZmlBAKXyZQtya0FApwFYuH1tQcCpEEpliW9BINYPHonKcEFgVxeXX9BxQYDYHhA21nJBwFkmiQzcc0EA2y0C4+F0QUBcNXu553VBgN089I/tdkHAXkRtZvN3QQ==",
          "dtype": "f8"
         },
         "yaxis": "y"
        },
        {
         "hovertemplate": "Channel=mdsp_nsp<br>Media Spend (Transformed)=%{x}<br>Incremental Sales=%{y}<extra></extra>",
         "legendgroup": "mdsp_nsp",
         "line": {
          "color": "#00cc96",
          "dash": "solid"
         },
         "marker": {
          "symbol": "circle"
         },
         "mode": "lines",
         "name": "mdsp_nsp",
         "orientation": "v",
         "showlegend": true,
         "type": "scatter",
         "x": {
          "bdata": "6uADMw+Xez82CyMQckmsPyjN8hwBkLo/WgrqmKR9wz8grlqjSLPJP+ZRy63s6M8/1/odXEgP0z+6TFZhGirWP52ejmbsRNk/gPDGa75f3D9jQv9wkHrfPyPKGzuxSuE/FfO3PRrY4j8GHFRAg2XkP/hE8ELs8uU/6W2MRVWA5z/blihIvg3pP82/xEonm+o/vuhgTZAo7D+wEf1P+bXtPw==",
          "dtype": "f8"
         },
         "xaxis": "x",
         "y": {
          "bdata": "AN3+WHDyFEGgJDCx33lFQVA3oKu4KlRB0FuofoGYXUFoQNgoJYNjQahSXJIJOmhBKGXg++3wbEG0O7Iy6dNwQfREdGdbL3NBFE42nM2KdUFUV/jQP+Z3QXRgugWyQXpBtGl8OiSdfEHUcj5vlvh+QQo+AFIEqoBBmkJhbL3XgUE6R8KGdgWDQcpLI6EvM4RBWlCEu+hghUH6VOXVoY6GQQ==",
          "dtype": "f8"
         },
         "yaxis": "y"
        },
        {
         "hovertemplate": "Channel=mdsp_auddig<br>Media Spend (Transformed)=%{x}<br>Incremental Sales=%{y}<extra></extra>",
         "legendgroup": "mdsp_auddig",
         "line": {
          "color": "#ab63fa",
          "dash": "solid"
         },
         "marker": {
          "symbol": "circle"
         },
         "mode": "lines",
         "name": "mdsp_auddig",
         "orientation": "v",
         "showlegend": true,
         "type": "scatter",
         "x": {
          "bdata": "6CkLfTqowD83l8aUDQnGP4YEgqzgacs/6rge4lll0D+Sb/xtwxXTPzkm2vksxtU/4Ny3hZZ22D+Ik5URACfbPy9Kc51p190/a4ColOlD4D+/W5daHpzhPxI3hiBT9OI/ZhJ15odM5D+67WOsvKTlPw7JUnLx/OY/YaRBOCZV6D+1fzD+Wq3pPwlbH8SPBes/XDYOisRd7D+wEf1P+bXtPw==",
          "dtype": "f8"
         },
         "xaxis": "x",
         "y": {
          "bdata": "AAAAAAAAAAAAAAAAAAAAAAAAAAAAAAAAAAAAAAAAAAAAAAAAAAAAAAAAAAAAAAAAAAAAAAAAAAAAAAAAAAAAAAAAAAAAAAAAAAAAAAAAAAAAAAAAAAAAAAAAAAAAAAAAAAAAAAAAAAAAAAAAAAAAAAAAAAAAAAAAAAAAAAAAAAAAAAAAAAAAAAAAAAAAAAAAAAAAAAAAAAAAAAAAAAAAAA==",
          "dtype": "f8"
         },
         "yaxis": "y"
        },
        {
         "hovertemplate": "Channel=mdsp_audtr<br>Media Spend (Transformed)=%{x}<br>Incremental Sales=%{y}<extra></extra>",
         "legendgroup": "mdsp_audtr",
         "line": {
          "color": "#FFA15A",
          "dash": "solid"
         },
         "marker": {
          "symbol": "circle"
         },
         "mode": "lines",
         "name": "mdsp_audtr",
         "orientation": "v",
         "showlegend": true,
         "type": "scatter",
         "x": {
          "bdata": "rllA1rcO0T/uIEoJhUnTPy3oUzxShNU/bK9dbx+/1z+sdmei7PnZP+w9cdW5NNw/KwV7CIdv3j81ZsIdKlXgP9VJR7eQcuE/dS3MUPeP4j8UEVHqXa3jP7T01YPEyuQ/VNhaHSvo5T/0u9+2kQXnP5SfZFD4Iug/M4Pp6V5A6T/TZm6DxV3qP3NK8xwse+s/Ey54tpKY7D+yEf1P+bXtPw==",
          "dtype": "f8"
         },
         "xaxis": "x",
         "y": {
          "bdata": "8E5/aLdCVEFwnWiItOhWQfDrUaixjllB8Dk7yK40XEFwiCToq9peQXjrBoRUwGBBeJL7E1MTYkG4OfCjUWZjQfjg5DNQuWRB+IfZw04MZkE4L85TTV9nQXjWwuNLsmhBeH23c0oFakG4JKwDSVhrQfjLoJNHq2xBOHOVI0b+bUE4GoqzRFFvQbxgv6EhUnBBXLS56aD7cEHcB7QxIKVxQQ==",
          "dtype": "f8"
         },
         "yaxis": "y"
        },
        {
         "hovertemplate": "Channel=mdsp_vidtr<br>Media Spend (Transformed)=%{x}<br>Incremental Sales=%{y}<extra></extra>",
         "legendgroup": "mdsp_vidtr",
         "line": {
          "color": "#19d3f3",
          "dash": "solid"
         },
         "marker": {
          "symbol": "circle"
         },
         "mode": "lines",
         "name": "mdsp_vidtr",
         "orientation": "v",
         "showlegend": true,
         "type": "scatter",
         "x": {
          "bdata": "6GCq6pHUwz/ZvbvGowrJP8oazaK1QM4/3Ttvv2O70T9W6netbFbUP86YgJt18dY/RkeJiX6M2T+/9ZF3hyfcPzekmmWQwt4/WKnRqcyu4D+UANYgUfzhP9BX2pfVSeM/DK/eDlqX5D9IBuOF3uTlP4Vd5/xiMuc/wbTrc+d/6D/9C/Dqa83pPzlj9GHwGus/dbr42HRo7D+yEf1P+bXtPw==",
          "dtype": "f8"
         },
         "xaxis": "x",
         "y": {
          "bdata": "AAAAAAAAAAAAAAAAAAAAAAAAAAAAAAAAAAAAAAAAAAAAAAAAAAAAAAAAAAAAAAAAAAAAAAAAAAAAAAAAAAAAAAAAAAAAAAAAAAAAAAAAAAAAAAAAAAAAAAAAAAAAAAAAAAAAAAAAAAAAAAAAAAAAAAAAAAAAAAAAAAAAAAAAAAAAAAAAAAAAAAAAAAAAAAAAAAAAAAAAAAAAAAAAAAAAAA==",
          "dtype": "f8"
         },
         "yaxis": "y"
        },
        {
         "hovertemplate": "Channel=mdsp_viddig<br>Media Spend (Transformed)=%{x}<br>Incremental Sales=%{y}<extra></extra>",
         "legendgroup": "mdsp_viddig",
         "line": {
          "color": "#FF6692",
          "dash": "solid"
         },
         "marker": {
          "symbol": "circle"
         },
         "mode": "lines",
         "name": "mdsp_viddig",
         "orientation": "v",
         "showlegend": true,
         "type": "scatter",
         "x": {
          "bdata": "S8A9/wQYzD+HNJb6X2/QP+iIjXW90tI/St2E8Bo21T+rMXxreJnXPwyGc+bV/Nk/btpqYTNg3D/QLmLckMPeP5jBrCt3k+A/yWso6SXF4T/6FaSm1PbiPyrAH2SDKOQ/W2qbITJa5T+MFBff4IvmP72+kpyPvec/7WgOWj7v6D8eE4oX7SDqP0+9BdWbUus/f2eBkkqE7D+wEf1P+bXtPw==",
          "dtype": "f8"
         },
         "xaxis": "x",
         "y": {
          "bdata": "AGCBS6CiIkEADNK3sM0lQQC8IiTB+ChBAGhzkNEjLEEAGMT84U4vQQBkijT5PDFBALqyaoHSMkEAEtugCWg0QQBoA9eR/TVBAMArDRqTN0EAFlRDoig5QQBufHkqvjpBAMSkr7JTPEEAHM3lOuk9QQB09RvDfj9BAOUOqSWKQEEAESPE6VRBQQA8N9+tH0JBAGhL+nHqQkEAk18VNrVDQQ==",
          "dtype": "f8"
         },
         "yaxis": "y"
        },
        {
         "hovertemplate": "Channel=mdsp_so<br>Media Spend (Transformed)=%{x}<br>Incremental Sales=%{y}<extra></extra>",
         "legendgroup": "mdsp_so",
         "line": {
          "color": "#B6E880",
          "dash": "solid"
         },
         "marker": {
          "symbol": "circle"
         },
         "mode": "lines",
         "name": "mdsp_so",
         "orientation": "v",
         "showlegend": true,
         "type": "scatter",
         "x": {
          "bdata": "AAAAAAAAAAAPvpHXBwWpPw++kdcHBbk/i06t4cXDwj8PvpHXBwXJP5Mtds1JRs8/i06t4cXD0j9Nhp/cZuTVPw++kdcHBdk/0fWD0qgl3D+TLXbNSUbfP6oyNGR1M+E/i06t4cXD4j9saiZfFlTkP02Gn9xm5OU/LqIYWrd05z8PvpHXBwXpP/DZClVYleo/0fWD0qgl7D+yEf1P+bXtPw==",
          "dtype": "f8"
         },
         "xaxis": "x",
         "y": {
          "bdata": "AAAAAAAAUL7gdY13gnhCQXB2jXeCeFJBcDFUs8O0W0E4do13gnhiQbjTcBWjFmdBeDFUs8O0a0F8x5socilwQTx2jXeCeHJB/CR/xpLHdEG803AVoxZ3QXyCYmSzZXlBXDFUs8O0e0Ec4EUC1AN+QW7HmyhyKYBB3p4UUPpQgUE+do13gniCQZ5NBp8KoINB/iR/xpLHhEFe/PftGu+FQQ==",
          "dtype": "f8"
         },
         "yaxis": "y"
        },
        {
         "hovertemplate": "Channel=mdsp_on<br>Media Spend (Transformed)=%{x}<br>Incremental Sales=%{y}<extra></extra>",
         "legendgroup": "mdsp_on",
         "line": {
          "color": "#FF97FF",
          "dash": "solid"
         },
         "marker": {
          "symbol": "circle"
         },
         "mode": "lines",
         "name": "mdsp_on",
         "orientation": "v",
         "showlegend": true,
         "type": "scatter",
         "x": {
          "bdata": "k/FIVR+OsT/W3kPeGiS9Pw1mnzMLXcQ/rtwc+Agoyj9QU5q8BvPPP/nki0AC39I/SqDKIoHE1T+bWwkFAKrYP+wWSOd+j9s/PdKGyf103j/HxuJVPq3gP28kAsf9H+I/F4IhOL2S4z/A30CpfAXlP2g9YBo8eOY/EZt/i/vq5z+5+J78ul3pP2FWvm160Oo/CrTd3jlD7D+yEf1P+bXtPw==",
          "dtype": "f8"
         },
         "xaxis": "x",
         "y": {
          "bdata": "kGTlwAiygEHwqDzrw7aLQbD2yYq/XZNB6Jj1Hx3gmEEYOyG1emKeQahuJiVs8qFBwD+875qzpEHcEFK6yXSnQfjh54T4NapBELN9Tyf3rEEshBMaVrivQaKqVHLCPLFBMJOf11mdskG8e+o88f2zQUpkNaKIXrVB2EyAByC/tkFkNctstx+4QfAdFtJOgLlBgAZhN+bgukEM76ucfUG8QQ==",
          "dtype": "f8"
         },
         "yaxis": "y"
        },
        {
         "hovertemplate": "Channel=mdsp_sem<br>Media Spend (Transformed)=%{x}<br>Incremental Sales=%{y}<extra></extra>",
         "legendgroup": "mdsp_sem",
         "line": {
          "color": "#FECB52",
          "dash": "solid"
         },
         "marker": {
          "symbol": "circle"
         },
         "mode": "lines",
         "name": "mdsp_sem",
         "orientation": "v",
         "showlegend": true,
         "type": "scatter",
         "x": {
          "bdata": "MgHLnAb8uT+OfXqeN5DCP4J6j+5rIsg/d3ekPqC0zT82ulxHaqPRP7A4Z2+EbNQ/Krdxl5411z+mNXy/uP7ZPyC0hufSx9w/mjKRD+2Q3z+K2M2bAy3hP8cX06+QkeI/BFfYwx324z9Blt3XqlrlP3/V4us3v+Y/vBTo/8Qj6D/5U+0TUojpPzaT8iff7Oo/c9L3O2xR7D+wEf1P+bXtPw==",
          "dtype": "f8"
         },
         "xaxis": "x",
         "y": {
          "bdata": "9JD2j34ShkEUKl6BcYmPQZrhYjkygJRBKq4Wsqs7mUG6esoqJfedQaEjv1FPWaFB6QkZDgy3o0Ex8HLKyBSmQXnWzIaFcqhBvbwmQ0LQqkEFo4D//i2tQU2J2ru7i69ByDcaPLz0sEHsKkeamiOyQQ4edPh4UrNBMhGhVleBtEFUBM60NbC1QXb3+hIU37ZBmuoncfINuEG+3VTP0Dy5QQ==",
          "dtype": "f8"
         },
         "yaxis": "y"
        }
       ],
       "layout": {
        "height": 400,
        "legend": {
         "title": {
          "text": "Channel"
         },
         "tracegroupgap": 0
        },
        "margin": {
         "b": 50,
         "l": 50,
         "r": 50,
         "t": 50
        },
        "template": {
         "data": {
          "bar": [
           {
            "error_x": {
             "color": "#2a3f5f"
            },
            "error_y": {
             "color": "#2a3f5f"
            },
            "marker": {
             "line": {
              "color": "#E5ECF6",
              "width": 0.5
             },
             "pattern": {
              "fillmode": "overlay",
              "size": 10,
              "solidity": 0.2
             }
            },
            "type": "bar"
           }
          ],
          "barpolar": [
           {
            "marker": {
             "line": {
              "color": "#E5ECF6",
              "width": 0.5
             },
             "pattern": {
              "fillmode": "overlay",
              "size": 10,
              "solidity": 0.2
             }
            },
            "type": "barpolar"
           }
          ],
          "carpet": [
           {
            "aaxis": {
             "endlinecolor": "#2a3f5f",
             "gridcolor": "white",
             "linecolor": "white",
             "minorgridcolor": "white",
             "startlinecolor": "#2a3f5f"
            },
            "baxis": {
             "endlinecolor": "#2a3f5f",
             "gridcolor": "white",
             "linecolor": "white",
             "minorgridcolor": "white",
             "startlinecolor": "#2a3f5f"
            },
            "type": "carpet"
           }
          ],
          "choropleth": [
           {
            "colorbar": {
             "outlinewidth": 0,
             "ticks": ""
            },
            "type": "choropleth"
           }
          ],
          "contour": [
           {
            "colorbar": {
             "outlinewidth": 0,
             "ticks": ""
            },
            "colorscale": [
             [
              0,
              "#0d0887"
             ],
             [
              0.1111111111111111,
              "#46039f"
             ],
             [
              0.2222222222222222,
              "#7201a8"
             ],
             [
              0.3333333333333333,
              "#9c179e"
             ],
             [
              0.4444444444444444,
              "#bd3786"
             ],
             [
              0.5555555555555556,
              "#d8576b"
             ],
             [
              0.6666666666666666,
              "#ed7953"
             ],
             [
              0.7777777777777778,
              "#fb9f3a"
             ],
             [
              0.8888888888888888,
              "#fdca26"
             ],
             [
              1,
              "#f0f921"
             ]
            ],
            "type": "contour"
           }
          ],
          "contourcarpet": [
           {
            "colorbar": {
             "outlinewidth": 0,
             "ticks": ""
            },
            "type": "contourcarpet"
           }
          ],
          "heatmap": [
           {
            "colorbar": {
             "outlinewidth": 0,
             "ticks": ""
            },
            "colorscale": [
             [
              0,
              "#0d0887"
             ],
             [
              0.1111111111111111,
              "#46039f"
             ],
             [
              0.2222222222222222,
              "#7201a8"
             ],
             [
              0.3333333333333333,
              "#9c179e"
             ],
             [
              0.4444444444444444,
              "#bd3786"
             ],
             [
              0.5555555555555556,
              "#d8576b"
             ],
             [
              0.6666666666666666,
              "#ed7953"
             ],
             [
              0.7777777777777778,
              "#fb9f3a"
             ],
             [
              0.8888888888888888,
              "#fdca26"
             ],
             [
              1,
              "#f0f921"
             ]
            ],
            "type": "heatmap"
           }
          ],
          "histogram": [
           {
            "marker": {
             "pattern": {
              "fillmode": "overlay",
              "size": 10,
              "solidity": 0.2
             }
            },
            "type": "histogram"
           }
          ],
          "histogram2d": [
           {
            "colorbar": {
             "outlinewidth": 0,
             "ticks": ""
            },
            "colorscale": [
             [
              0,
              "#0d0887"
             ],
             [
              0.1111111111111111,
              "#46039f"
             ],
             [
              0.2222222222222222,
              "#7201a8"
             ],
             [
              0.3333333333333333,
              "#9c179e"
             ],
             [
              0.4444444444444444,
              "#bd3786"
             ],
             [
              0.5555555555555556,
              "#d8576b"
             ],
             [
              0.6666666666666666,
              "#ed7953"
             ],
             [
              0.7777777777777778,
              "#fb9f3a"
             ],
             [
              0.8888888888888888,
              "#fdca26"
             ],
             [
              1,
              "#f0f921"
             ]
            ],
            "type": "histogram2d"
           }
          ],
          "histogram2dcontour": [
           {
            "colorbar": {
             "outlinewidth": 0,
             "ticks": ""
            },
            "colorscale": [
             [
              0,
              "#0d0887"
             ],
             [
              0.1111111111111111,
              "#46039f"
             ],
             [
              0.2222222222222222,
              "#7201a8"
             ],
             [
              0.3333333333333333,
              "#9c179e"
             ],
             [
              0.4444444444444444,
              "#bd3786"
             ],
             [
              0.5555555555555556,
              "#d8576b"
             ],
             [
              0.6666666666666666,
              "#ed7953"
             ],
             [
              0.7777777777777778,
              "#fb9f3a"
             ],
             [
              0.8888888888888888,
              "#fdca26"
             ],
             [
              1,
              "#f0f921"
             ]
            ],
            "type": "histogram2dcontour"
           }
          ],
          "mesh3d": [
           {
            "colorbar": {
             "outlinewidth": 0,
             "ticks": ""
            },
            "type": "mesh3d"
           }
          ],
          "parcoords": [
           {
            "line": {
             "colorbar": {
              "outlinewidth": 0,
              "ticks": ""
             }
            },
            "type": "parcoords"
           }
          ],
          "pie": [
           {
            "automargin": true,
            "type": "pie"
           }
          ],
          "scatter": [
           {
            "fillpattern": {
             "fillmode": "overlay",
             "size": 10,
             "solidity": 0.2
            },
            "type": "scatter"
           }
          ],
          "scatter3d": [
           {
            "line": {
             "colorbar": {
              "outlinewidth": 0,
              "ticks": ""
             }
            },
            "marker": {
             "colorbar": {
              "outlinewidth": 0,
              "ticks": ""
             }
            },
            "type": "scatter3d"
           }
          ],
          "scattercarpet": [
           {
            "marker": {
             "colorbar": {
              "outlinewidth": 0,
              "ticks": ""
             }
            },
            "type": "scattercarpet"
           }
          ],
          "scattergeo": [
           {
            "marker": {
             "colorbar": {
              "outlinewidth": 0,
              "ticks": ""
             }
            },
            "type": "scattergeo"
           }
          ],
          "scattergl": [
           {
            "marker": {
             "colorbar": {
              "outlinewidth": 0,
              "ticks": ""
             }
            },
            "type": "scattergl"
           }
          ],
          "scattermap": [
           {
            "marker": {
             "colorbar": {
              "outlinewidth": 0,
              "ticks": ""
             }
            },
            "type": "scattermap"
           }
          ],
          "scattermapbox": [
           {
            "marker": {
             "colorbar": {
              "outlinewidth": 0,
              "ticks": ""
             }
            },
            "type": "scattermapbox"
           }
          ],
          "scatterpolar": [
           {
            "marker": {
             "colorbar": {
              "outlinewidth": 0,
              "ticks": ""
             }
            },
            "type": "scatterpolar"
           }
          ],
          "scatterpolargl": [
           {
            "marker": {
             "colorbar": {
              "outlinewidth": 0,
              "ticks": ""
             }
            },
            "type": "scatterpolargl"
           }
          ],
          "scatterternary": [
           {
            "marker": {
             "colorbar": {
              "outlinewidth": 0,
              "ticks": ""
             }
            },
            "type": "scatterternary"
           }
          ],
          "surface": [
           {
            "colorbar": {
             "outlinewidth": 0,
             "ticks": ""
            },
            "colorscale": [
             [
              0,
              "#0d0887"
             ],
             [
              0.1111111111111111,
              "#46039f"
             ],
             [
              0.2222222222222222,
              "#7201a8"
             ],
             [
              0.3333333333333333,
              "#9c179e"
             ],
             [
              0.4444444444444444,
              "#bd3786"
             ],
             [
              0.5555555555555556,
              "#d8576b"
             ],
             [
              0.6666666666666666,
              "#ed7953"
             ],
             [
              0.7777777777777778,
              "#fb9f3a"
             ],
             [
              0.8888888888888888,
              "#fdca26"
             ],
             [
              1,
              "#f0f921"
             ]
            ],
            "type": "surface"
           }
          ],
          "table": [
           {
            "cells": {
             "fill": {
              "color": "#EBF0F8"
             },
             "line": {
              "color": "white"
             }
            },
            "header": {
             "fill": {
              "color": "#C8D4E3"
             },
             "line": {
              "color": "white"
             }
            },
            "type": "table"
           }
          ]
         },
         "layout": {
          "annotationdefaults": {
           "arrowcolor": "#2a3f5f",
           "arrowhead": 0,
           "arrowwidth": 1
          },
          "autotypenumbers": "strict",
          "coloraxis": {
           "colorbar": {
            "outlinewidth": 0,
            "ticks": ""
           }
          },
          "colorscale": {
           "diverging": [
            [
             0,
             "#8e0152"
            ],
            [
             0.1,
             "#c51b7d"
            ],
            [
             0.2,
             "#de77ae"
            ],
            [
             0.3,
             "#f1b6da"
            ],
            [
             0.4,
             "#fde0ef"
            ],
            [
             0.5,
             "#f7f7f7"
            ],
            [
             0.6,
             "#e6f5d0"
            ],
            [
             0.7,
             "#b8e186"
            ],
            [
             0.8,
             "#7fbc41"
            ],
            [
             0.9,
             "#4d9221"
            ],
            [
             1,
             "#276419"
            ]
           ],
           "sequential": [
            [
             0,
             "#0d0887"
            ],
            [
             0.1111111111111111,
             "#46039f"
            ],
            [
             0.2222222222222222,
             "#7201a8"
            ],
            [
             0.3333333333333333,
             "#9c179e"
            ],
            [
             0.4444444444444444,
             "#bd3786"
            ],
            [
             0.5555555555555556,
             "#d8576b"
            ],
            [
             0.6666666666666666,
             "#ed7953"
            ],
            [
             0.7777777777777778,
             "#fb9f3a"
            ],
            [
             0.8888888888888888,
             "#fdca26"
            ],
            [
             1,
             "#f0f921"
            ]
           ],
           "sequentialminus": [
            [
             0,
             "#0d0887"
            ],
            [
             0.1111111111111111,
             "#46039f"
            ],
            [
             0.2222222222222222,
             "#7201a8"
            ],
            [
             0.3333333333333333,
             "#9c179e"
            ],
            [
             0.4444444444444444,
             "#bd3786"
            ],
            [
             0.5555555555555556,
             "#d8576b"
            ],
            [
             0.6666666666666666,
             "#ed7953"
            ],
            [
             0.7777777777777778,
             "#fb9f3a"
            ],
            [
             0.8888888888888888,
             "#fdca26"
            ],
            [
             1,
             "#f0f921"
            ]
           ]
          },
          "colorway": [
           "#636efa",
           "#EF553B",
           "#00cc96",
           "#ab63fa",
           "#FFA15A",
           "#19d3f3",
           "#FF6692",
           "#B6E880",
           "#FF97FF",
           "#FECB52"
          ],
          "font": {
           "color": "#2a3f5f"
          },
          "geo": {
           "bgcolor": "white",
           "lakecolor": "white",
           "landcolor": "#E5ECF6",
           "showlakes": true,
           "showland": true,
           "subunitcolor": "white"
          },
          "hoverlabel": {
           "align": "left"
          },
          "hovermode": "closest",
          "mapbox": {
           "style": "light"
          },
          "paper_bgcolor": "white",
          "plot_bgcolor": "#E5ECF6",
          "polar": {
           "angularaxis": {
            "gridcolor": "white",
            "linecolor": "white",
            "ticks": ""
           },
           "bgcolor": "#E5ECF6",
           "radialaxis": {
            "gridcolor": "white",
            "linecolor": "white",
            "ticks": ""
           }
          },
          "scene": {
           "xaxis": {
            "backgroundcolor": "#E5ECF6",
            "gridcolor": "white",
            "gridwidth": 2,
            "linecolor": "white",
            "showbackground": true,
            "ticks": "",
            "zerolinecolor": "white"
           },
           "yaxis": {
            "backgroundcolor": "#E5ECF6",
            "gridcolor": "white",
            "gridwidth": 2,
            "linecolor": "white",
            "showbackground": true,
            "ticks": "",
            "zerolinecolor": "white"
           },
           "zaxis": {
            "backgroundcolor": "#E5ECF6",
            "gridcolor": "white",
            "gridwidth": 2,
            "linecolor": "white",
            "showbackground": true,
            "ticks": "",
            "zerolinecolor": "white"
           }
          },
          "shapedefaults": {
           "line": {
            "color": "#2a3f5f"
           }
          },
          "ternary": {
           "aaxis": {
            "gridcolor": "white",
            "linecolor": "white",
            "ticks": ""
           },
           "baxis": {
            "gridcolor": "white",
            "linecolor": "white",
            "ticks": ""
           },
           "bgcolor": "#E5ECF6",
           "caxis": {
            "gridcolor": "white",
            "linecolor": "white",
            "ticks": ""
           }
          },
          "title": {
           "x": 0.05
          },
          "xaxis": {
           "automargin": true,
           "gridcolor": "white",
           "linecolor": "white",
           "ticks": "",
           "title": {
            "standoff": 15
           },
           "zerolinecolor": "white",
           "zerolinewidth": 2
          },
          "yaxis": {
           "automargin": true,
           "gridcolor": "white",
           "linecolor": "white",
           "ticks": "",
           "title": {
            "standoff": 15
           },
           "zerolinecolor": "white",
           "zerolinewidth": 2
          }
         }
        },
        "width": 800,
        "xaxis": {
         "anchor": "y",
         "domain": [
          0,
          1
         ],
         "title": {
          "text": "Media Spend (Transformed)"
         }
        },
        "yaxis": {
         "anchor": "x",
         "domain": [
          0,
          1
         ],
         "title": {
          "text": "Incremental Sales"
         }
        }
       }
      }
     },
     "metadata": {},
     "output_type": "display_data"
    },
    {
     "data": {
      "application/vnd.plotly.v1+json": {
       "config": {
        "plotlyServerURL": "https://plot.ly"
       },
       "data": [
        {
         "orientation": "h",
         "type": "bar",
         "x": {
          "bdata": "rKZZcBiErEGZv2uNLLGoQfU/JCxIqXJBnPUWBEGrcEFDVbptgNVnQXrAtPo7jWRBC5btmo0aMkEAAAAAAAAAAAAAAAAAAAAAAAAAAAAAAAA=",
          "dtype": "f8"
         },
         "y": [
          "mdsp_on",
          "mdsp_sem",
          "mdsp_nsp",
          "mdsp_so",
          "mdsp_inst",
          "mdsp_audtr",
          "mdsp_viddig",
          "mdsp_dm",
          "mdsp_auddig",
          "mdsp_vidtr"
         ]
        }
       ],
       "layout": {
        "height": 400,
        "margin": {
         "b": 50,
         "l": 50,
         "r": 50,
         "t": 50
        },
        "template": {
         "data": {
          "bar": [
           {
            "error_x": {
             "color": "#2a3f5f"
            },
            "error_y": {
             "color": "#2a3f5f"
            },
            "marker": {
             "line": {
              "color": "#E5ECF6",
              "width": 0.5
             },
             "pattern": {
              "fillmode": "overlay",
              "size": 10,
              "solidity": 0.2
             }
            },
            "type": "bar"
           }
          ],
          "barpolar": [
           {
            "marker": {
             "line": {
              "color": "#E5ECF6",
              "width": 0.5
             },
             "pattern": {
              "fillmode": "overlay",
              "size": 10,
              "solidity": 0.2
             }
            },
            "type": "barpolar"
           }
          ],
          "carpet": [
           {
            "aaxis": {
             "endlinecolor": "#2a3f5f",
             "gridcolor": "white",
             "linecolor": "white",
             "minorgridcolor": "white",
             "startlinecolor": "#2a3f5f"
            },
            "baxis": {
             "endlinecolor": "#2a3f5f",
             "gridcolor": "white",
             "linecolor": "white",
             "minorgridcolor": "white",
             "startlinecolor": "#2a3f5f"
            },
            "type": "carpet"
           }
          ],
          "choropleth": [
           {
            "colorbar": {
             "outlinewidth": 0,
             "ticks": ""
            },
            "type": "choropleth"
           }
          ],
          "contour": [
           {
            "colorbar": {
             "outlinewidth": 0,
             "ticks": ""
            },
            "colorscale": [
             [
              0,
              "#0d0887"
             ],
             [
              0.1111111111111111,
              "#46039f"
             ],
             [
              0.2222222222222222,
              "#7201a8"
             ],
             [
              0.3333333333333333,
              "#9c179e"
             ],
             [
              0.4444444444444444,
              "#bd3786"
             ],
             [
              0.5555555555555556,
              "#d8576b"
             ],
             [
              0.6666666666666666,
              "#ed7953"
             ],
             [
              0.7777777777777778,
              "#fb9f3a"
             ],
             [
              0.8888888888888888,
              "#fdca26"
             ],
             [
              1,
              "#f0f921"
             ]
            ],
            "type": "contour"
           }
          ],
          "contourcarpet": [
           {
            "colorbar": {
             "outlinewidth": 0,
             "ticks": ""
            },
            "type": "contourcarpet"
           }
          ],
          "heatmap": [
           {
            "colorbar": {
             "outlinewidth": 0,
             "ticks": ""
            },
            "colorscale": [
             [
              0,
              "#0d0887"
             ],
             [
              0.1111111111111111,
              "#46039f"
             ],
             [
              0.2222222222222222,
              "#7201a8"
             ],
             [
              0.3333333333333333,
              "#9c179e"
             ],
             [
              0.4444444444444444,
              "#bd3786"
             ],
             [
              0.5555555555555556,
              "#d8576b"
             ],
             [
              0.6666666666666666,
              "#ed7953"
             ],
             [
              0.7777777777777778,
              "#fb9f3a"
             ],
             [
              0.8888888888888888,
              "#fdca26"
             ],
             [
              1,
              "#f0f921"
             ]
            ],
            "type": "heatmap"
           }
          ],
          "histogram": [
           {
            "marker": {
             "pattern": {
              "fillmode": "overlay",
              "size": 10,
              "solidity": 0.2
             }
            },
            "type": "histogram"
           }
          ],
          "histogram2d": [
           {
            "colorbar": {
             "outlinewidth": 0,
             "ticks": ""
            },
            "colorscale": [
             [
              0,
              "#0d0887"
             ],
             [
              0.1111111111111111,
              "#46039f"
             ],
             [
              0.2222222222222222,
              "#7201a8"
             ],
             [
              0.3333333333333333,
              "#9c179e"
             ],
             [
              0.4444444444444444,
              "#bd3786"
             ],
             [
              0.5555555555555556,
              "#d8576b"
             ],
             [
              0.6666666666666666,
              "#ed7953"
             ],
             [
              0.7777777777777778,
              "#fb9f3a"
             ],
             [
              0.8888888888888888,
              "#fdca26"
             ],
             [
              1,
              "#f0f921"
             ]
            ],
            "type": "histogram2d"
           }
          ],
          "histogram2dcontour": [
           {
            "colorbar": {
             "outlinewidth": 0,
             "ticks": ""
            },
            "colorscale": [
             [
              0,
              "#0d0887"
             ],
             [
              0.1111111111111111,
              "#46039f"
             ],
             [
              0.2222222222222222,
              "#7201a8"
             ],
             [
              0.3333333333333333,
              "#9c179e"
             ],
             [
              0.4444444444444444,
              "#bd3786"
             ],
             [
              0.5555555555555556,
              "#d8576b"
             ],
             [
              0.6666666666666666,
              "#ed7953"
             ],
             [
              0.7777777777777778,
              "#fb9f3a"
             ],
             [
              0.8888888888888888,
              "#fdca26"
             ],
             [
              1,
              "#f0f921"
             ]
            ],
            "type": "histogram2dcontour"
           }
          ],
          "mesh3d": [
           {
            "colorbar": {
             "outlinewidth": 0,
             "ticks": ""
            },
            "type": "mesh3d"
           }
          ],
          "parcoords": [
           {
            "line": {
             "colorbar": {
              "outlinewidth": 0,
              "ticks": ""
             }
            },
            "type": "parcoords"
           }
          ],
          "pie": [
           {
            "automargin": true,
            "type": "pie"
           }
          ],
          "scatter": [
           {
            "fillpattern": {
             "fillmode": "overlay",
             "size": 10,
             "solidity": 0.2
            },
            "type": "scatter"
           }
          ],
          "scatter3d": [
           {
            "line": {
             "colorbar": {
              "outlinewidth": 0,
              "ticks": ""
             }
            },
            "marker": {
             "colorbar": {
              "outlinewidth": 0,
              "ticks": ""
             }
            },
            "type": "scatter3d"
           }
          ],
          "scattercarpet": [
           {
            "marker": {
             "colorbar": {
              "outlinewidth": 0,
              "ticks": ""
             }
            },
            "type": "scattercarpet"
           }
          ],
          "scattergeo": [
           {
            "marker": {
             "colorbar": {
              "outlinewidth": 0,
              "ticks": ""
             }
            },
            "type": "scattergeo"
           }
          ],
          "scattergl": [
           {
            "marker": {
             "colorbar": {
              "outlinewidth": 0,
              "ticks": ""
             }
            },
            "type": "scattergl"
           }
          ],
          "scattermap": [
           {
            "marker": {
             "colorbar": {
              "outlinewidth": 0,
              "ticks": ""
             }
            },
            "type": "scattermap"
           }
          ],
          "scattermapbox": [
           {
            "marker": {
             "colorbar": {
              "outlinewidth": 0,
              "ticks": ""
             }
            },
            "type": "scattermapbox"
           }
          ],
          "scatterpolar": [
           {
            "marker": {
             "colorbar": {
              "outlinewidth": 0,
              "ticks": ""
             }
            },
            "type": "scatterpolar"
           }
          ],
          "scatterpolargl": [
           {
            "marker": {
             "colorbar": {
              "outlinewidth": 0,
              "ticks": ""
             }
            },
            "type": "scatterpolargl"
           }
          ],
          "scatterternary": [
           {
            "marker": {
             "colorbar": {
              "outlinewidth": 0,
              "ticks": ""
             }
            },
            "type": "scatterternary"
           }
          ],
          "surface": [
           {
            "colorbar": {
             "outlinewidth": 0,
             "ticks": ""
            },
            "colorscale": [
             [
              0,
              "#0d0887"
             ],
             [
              0.1111111111111111,
              "#46039f"
             ],
             [
              0.2222222222222222,
              "#7201a8"
             ],
             [
              0.3333333333333333,
              "#9c179e"
             ],
             [
              0.4444444444444444,
              "#bd3786"
             ],
             [
              0.5555555555555556,
              "#d8576b"
             ],
             [
              0.6666666666666666,
              "#ed7953"
             ],
             [
              0.7777777777777778,
              "#fb9f3a"
             ],
             [
              0.8888888888888888,
              "#fdca26"
             ],
             [
              1,
              "#f0f921"
             ]
            ],
            "type": "surface"
           }
          ],
          "table": [
           {
            "cells": {
             "fill": {
              "color": "#EBF0F8"
             },
             "line": {
              "color": "white"
             }
            },
            "header": {
             "fill": {
              "color": "#C8D4E3"
             },
             "line": {
              "color": "white"
             }
            },
            "type": "table"
           }
          ]
         },
         "layout": {
          "annotationdefaults": {
           "arrowcolor": "#2a3f5f",
           "arrowhead": 0,
           "arrowwidth": 1
          },
          "autotypenumbers": "strict",
          "coloraxis": {
           "colorbar": {
            "outlinewidth": 0,
            "ticks": ""
           }
          },
          "colorscale": {
           "diverging": [
            [
             0,
             "#8e0152"
            ],
            [
             0.1,
             "#c51b7d"
            ],
            [
             0.2,
             "#de77ae"
            ],
            [
             0.3,
             "#f1b6da"
            ],
            [
             0.4,
             "#fde0ef"
            ],
            [
             0.5,
             "#f7f7f7"
            ],
            [
             0.6,
             "#e6f5d0"
            ],
            [
             0.7,
             "#b8e186"
            ],
            [
             0.8,
             "#7fbc41"
            ],
            [
             0.9,
             "#4d9221"
            ],
            [
             1,
             "#276419"
            ]
           ],
           "sequential": [
            [
             0,
             "#0d0887"
            ],
            [
             0.1111111111111111,
             "#46039f"
            ],
            [
             0.2222222222222222,
             "#7201a8"
            ],
            [
             0.3333333333333333,
             "#9c179e"
            ],
            [
             0.4444444444444444,
             "#bd3786"
            ],
            [
             0.5555555555555556,
             "#d8576b"
            ],
            [
             0.6666666666666666,
             "#ed7953"
            ],
            [
             0.7777777777777778,
             "#fb9f3a"
            ],
            [
             0.8888888888888888,
             "#fdca26"
            ],
            [
             1,
             "#f0f921"
            ]
           ],
           "sequentialminus": [
            [
             0,
             "#0d0887"
            ],
            [
             0.1111111111111111,
             "#46039f"
            ],
            [
             0.2222222222222222,
             "#7201a8"
            ],
            [
             0.3333333333333333,
             "#9c179e"
            ],
            [
             0.4444444444444444,
             "#bd3786"
            ],
            [
             0.5555555555555556,
             "#d8576b"
            ],
            [
             0.6666666666666666,
             "#ed7953"
            ],
            [
             0.7777777777777778,
             "#fb9f3a"
            ],
            [
             0.8888888888888888,
             "#fdca26"
            ],
            [
             1,
             "#f0f921"
            ]
           ]
          },
          "colorway": [
           "#636efa",
           "#EF553B",
           "#00cc96",
           "#ab63fa",
           "#FFA15A",
           "#19d3f3",
           "#FF6692",
           "#B6E880",
           "#FF97FF",
           "#FECB52"
          ],
          "font": {
           "color": "#2a3f5f"
          },
          "geo": {
           "bgcolor": "white",
           "lakecolor": "white",
           "landcolor": "#E5ECF6",
           "showlakes": true,
           "showland": true,
           "subunitcolor": "white"
          },
          "hoverlabel": {
           "align": "left"
          },
          "hovermode": "closest",
          "mapbox": {
           "style": "light"
          },
          "paper_bgcolor": "white",
          "plot_bgcolor": "#E5ECF6",
          "polar": {
           "angularaxis": {
            "gridcolor": "white",
            "linecolor": "white",
            "ticks": ""
           },
           "bgcolor": "#E5ECF6",
           "radialaxis": {
            "gridcolor": "white",
            "linecolor": "white",
            "ticks": ""
           }
          },
          "scene": {
           "xaxis": {
            "backgroundcolor": "#E5ECF6",
            "gridcolor": "white",
            "gridwidth": 2,
            "linecolor": "white",
            "showbackground": true,
            "ticks": "",
            "zerolinecolor": "white"
           },
           "yaxis": {
            "backgroundcolor": "#E5ECF6",
            "gridcolor": "white",
            "gridwidth": 2,
            "linecolor": "white",
            "showbackground": true,
            "ticks": "",
            "zerolinecolor": "white"
           },
           "zaxis": {
            "backgroundcolor": "#E5ECF6",
            "gridcolor": "white",
            "gridwidth": 2,
            "linecolor": "white",
            "showbackground": true,
            "ticks": "",
            "zerolinecolor": "white"
           }
          },
          "shapedefaults": {
           "line": {
            "color": "#2a3f5f"
           }
          },
          "ternary": {
           "aaxis": {
            "gridcolor": "white",
            "linecolor": "white",
            "ticks": ""
           },
           "baxis": {
            "gridcolor": "white",
            "linecolor": "white",
            "ticks": ""
           },
           "bgcolor": "#E5ECF6",
           "caxis": {
            "gridcolor": "white",
            "linecolor": "white",
            "ticks": ""
           }
          },
          "title": {
           "x": 0.05
          },
          "xaxis": {
           "automargin": true,
           "gridcolor": "white",
           "linecolor": "white",
           "ticks": "",
           "title": {
            "standoff": 15
           },
           "zerolinecolor": "white",
           "zerolinewidth": 2
          },
          "yaxis": {
           "automargin": true,
           "gridcolor": "white",
           "linecolor": "white",
           "ticks": "",
           "title": {
            "standoff": 15
           },
           "zerolinecolor": "white",
           "zerolinewidth": 2
          }
         }
        },
        "width": 800,
        "xaxis": {
         "title": {
          "text": "Contribution"
         }
        },
        "yaxis": {
         "title": {
          "text": "Channel"
         }
        }
       }
      }
     },
     "metadata": {},
     "output_type": "display_data"
    }
   ],
   "source": [
    "import plotly.express as px\n",
    "\n",
    "# Create DataFrame and plot with plotly express\n",
    "fig = px.line(\n",
    "    response_curves, \n",
    "    x='Media_Spend',\n",
    "    y='Incremental_Sales',\n",
    "    color='Channel',\n",
    "    labels={\n",
    "        'Media_Spend': 'Media Spend (Transformed)',\n",
    "        'Incremental_Sales': 'Incremental Sales'\n",
    "    }\n",
    ")\n",
    "\n",
    "fig.update_layout(\n",
    "    width=800,\n",
    "    height=400,\n",
    "    margin=dict(l=50, r=50, t=50, b=50)\n",
    ")\n",
    "\n",
    "fig.show()\n",
    "\n",
    "# Calculate channel contribution\n",
    "contributions = {}\n",
    "for i, col in enumerate(transformed_media_cols):\n",
    "    original_col = col.replace('_transformed', '')\n",
    "    contribution = model.coef_[i] * X_train[col].mean()\n",
    "    contributions[original_col] = contribution\n",
    "\n",
    "# Plot contributions\n",
    "contribution_df = pd.DataFrame({'Channel': list(contributions.keys()),\n",
    "                              'Contribution': list(contributions.values())})\n",
    "contribution_df = contribution_df.sort_values('Contribution', ascending=False)\n",
    "\n",
    "fig = go.Figure(go.Bar(\n",
    "    x=contribution_df['Contribution'],\n",
    "    y=contribution_df['Channel'],\n",
    "    orientation='h'\n",
    "))\n",
    "\n",
    "fig.update_layout(\n",
    "    xaxis_title='Contribution',\n",
    "    yaxis_title='Channel',\n",
    "    width=800,\n",
    "    height=400,\n",
    "    margin=dict(l=50, r=50, t=50, b=50)\n",
    ")\n",
    "\n",
    "fig.show()\n"
   ]
  },
  {
   "cell_type": "code",
   "execution_count": 13,
   "metadata": {},
   "outputs": [],
   "source": [
    "## Optimization"
   ]
  },
  {
   "cell_type": "code",
   "execution_count": 14,
   "metadata": {},
   "outputs": [],
   "source": [
    "from scipy import optimize\n",
    "def original_to_transformed(spend_values, media_cols):\n",
    "    \"\"\"Convert original spend to transformed values for model prediction\"\"\"\n",
    "    transformed_values = []\n",
    "    \n",
    "    for i, col in enumerate(media_cols):\n",
    "        # Apply adstock\n",
    "        adstocked = geometric_adstock(np.array([spend_values[i]])).eval()\n",
    "        \n",
    "        # Apply hill transformation with stored parameters\n",
    "        k = saturation_params[col]['k']\n",
    "        s = saturation_params[col]['s']\n",
    "        transformed = hill_saturation(adstocked, k=k, s=s).eval()\n",
    "        \n",
    "        transformed_values.append(transformed[0])\n",
    "    \n",
    "    return transformed_values\n",
    "\n",
    "def objective_function(spend_values, media_cols, total_budget, model, X_avg, feature_cols):\n",
    "    \"\"\"\n",
    "    Objective function to maximize sales given spend allocation\n",
    "    \n",
    "    Args:\n",
    "        spend_values: Proposed media spend values\n",
    "        media_cols: Media channel columns\n",
    "        total_budget: Budget constraint\n",
    "        model: Trained model\n",
    "        X_avg: Average feature values\n",
    "        feature_indices: Indices of media features in X\n",
    "        \n",
    "    Returns:\n",
    "        Negative predicted sales (for minimization)\n",
    "    \"\"\"\n",
    "    # Check if spend exceeds budget\n",
    "    if sum(spend_values) > total_budget:\n",
    "        return 1e10  # Large penalty for exceeding budget\n",
    "    \n",
    "    # Convert original spend to transformed values\n",
    "    transformed_values = original_to_transformed(spend_values, media_cols)\n",
    "    \n",
    "    # Create prediction array\n",
    "    X_pred = X_avg.copy()\n",
    "    for i, feature_col in enumerate(feature_cols):\n",
    "        X_pred[feature_col] = transformed_values[i]\n",
    "    \n",
    "    # Predict sales and return negative (for minimization)\n",
    "    return -model.predict(X_pred)[0]\n",
    "\n",
    "def optimize_budget(model, media_cols, transformed_cols, total_budget, X_avg):\n",
    "    \"\"\"\n",
    "    Optimize budget allocation across media channels\n",
    "    \n",
    "    Args:\n",
    "        model: Trained model\n",
    "        media_cols: Media channel columns\n",
    "        transformed_cols: Transformed media columns\n",
    "        total_budget: Total budget to allocate\n",
    "        X_avg: Average feature values\n",
    "        \n",
    "    Returns:\n",
    "        Optimized budget allocation\n",
    "    \"\"\"\n",
    "    # Get current spend levels for initial guess\n",
    "    current_spend = [df[col].mean() for col in media_cols]\n",
    "\n",
    "    total_budget = total_budget * 0.99\n",
    "\n",
    "    # Define bounds (min and max spend for each channel)\n",
    "    bounds = [(0, total_budget) for _ in media_cols]\n",
    "    \n",
    "    # Additional constraint: total spend equals budget\n",
    "    def budget_constraint(x):\n",
    "        return total_budget - sum(x)\n",
    "    \n",
    "    constraints = [{'type': 'eq', 'fun': budget_constraint}]\n",
    "    \n",
    "    # Run optimization\n",
    "    result = optimize.minimize(\n",
    "        objective_function,\n",
    "        current_spend,\n",
    "        args=(media_cols, total_budget, model, X_avg, transformed_cols),\n",
    "        method='SLSQP',\n",
    "        bounds=bounds,\n",
    "        constraints=constraints\n",
    "    )\n",
    "    \n",
    "    return result.x"
   ]
  },
  {
   "cell_type": "code",
   "execution_count": 15,
   "metadata": {},
   "outputs": [],
   "source": [
    "# Average feature values for prediction\n",
    "X_avg = X.mean().to_frame().T\n",
    "\n",
    "# Specify total budget (e.g., sum of current average spend)\n",
    "current_total_spend = sum(df[col_sets['media_spend']].mean())\n",
    "total_budget = current_total_spend * 1.5"
   ]
  },
  {
   "cell_type": "code",
   "execution_count": 16,
   "metadata": {},
   "outputs": [
    {
     "ename": "ValueError",
     "evalue": "all input array dimensions other than the specified `axis` (0) must match exactly, or be unknown (None), but along dimension 1, the inputs shapes are incompatible: [ 1  1  2  3  4  5  6  7  8  9 10 11]",
     "output_type": "error",
     "traceback": [
      "\u001b[0;31m---------------------------------------------------------------------------\u001b[0m",
      "\u001b[0;31mValueError\u001b[0m                                Traceback (most recent call last)",
      "Cell \u001b[0;32mIn[16], line 2\u001b[0m\n\u001b[1;32m      1\u001b[0m \u001b[38;5;66;03m# Run optimization\u001b[39;00m\n\u001b[0;32m----> 2\u001b[0m optimal_allocation \u001b[38;5;241m=\u001b[39m \u001b[43moptimize_budget\u001b[49m\u001b[43m(\u001b[49m\n\u001b[1;32m      3\u001b[0m \u001b[43m   \u001b[49m\u001b[43mmodel\u001b[49m\u001b[43m,\u001b[49m\u001b[43m \u001b[49m\n\u001b[1;32m      4\u001b[0m \u001b[43m   \u001b[49m\u001b[43mcol_sets\u001b[49m\u001b[43m[\u001b[49m\u001b[38;5;124;43m'\u001b[39;49m\u001b[38;5;124;43mmedia_spend\u001b[39;49m\u001b[38;5;124;43m'\u001b[39;49m\u001b[43m]\u001b[49m\u001b[43m,\u001b[49m\u001b[43m \u001b[49m\n\u001b[1;32m      5\u001b[0m \u001b[43m   \u001b[49m\u001b[43mtransformed_media_cols\u001b[49m\u001b[43m,\u001b[49m\u001b[43m \u001b[49m\n\u001b[1;32m      6\u001b[0m \u001b[43m   \u001b[49m\u001b[43mtotal_budget\u001b[49m\u001b[43m,\u001b[49m\u001b[43m \u001b[49m\n\u001b[1;32m      7\u001b[0m \u001b[43m   \u001b[49m\u001b[43mX_avg\u001b[49m\n\u001b[1;32m      8\u001b[0m \u001b[43m)\u001b[49m\n",
      "Cell \u001b[0;32mIn[14], line 78\u001b[0m, in \u001b[0;36moptimize_budget\u001b[0;34m(model, media_cols, transformed_cols, total_budget, X_avg)\u001b[0m\n\u001b[1;32m     75\u001b[0m constraints \u001b[38;5;241m=\u001b[39m [{\u001b[38;5;124m'\u001b[39m\u001b[38;5;124mtype\u001b[39m\u001b[38;5;124m'\u001b[39m: \u001b[38;5;124m'\u001b[39m\u001b[38;5;124meq\u001b[39m\u001b[38;5;124m'\u001b[39m, \u001b[38;5;124m'\u001b[39m\u001b[38;5;124mfun\u001b[39m\u001b[38;5;124m'\u001b[39m: budget_constraint}]\n\u001b[1;32m     77\u001b[0m \u001b[38;5;66;03m# Run optimization\u001b[39;00m\n\u001b[0;32m---> 78\u001b[0m result \u001b[38;5;241m=\u001b[39m \u001b[43moptimize\u001b[49m\u001b[38;5;241;43m.\u001b[39;49m\u001b[43mminimize\u001b[49m\u001b[43m(\u001b[49m\n\u001b[1;32m     79\u001b[0m \u001b[43m    \u001b[49m\u001b[43mobjective_function\u001b[49m\u001b[43m,\u001b[49m\n\u001b[1;32m     80\u001b[0m \u001b[43m    \u001b[49m\u001b[43mcurrent_spend\u001b[49m\u001b[43m,\u001b[49m\n\u001b[1;32m     81\u001b[0m \u001b[43m    \u001b[49m\u001b[43margs\u001b[49m\u001b[38;5;241;43m=\u001b[39;49m\u001b[43m(\u001b[49m\u001b[43mmedia_cols\u001b[49m\u001b[43m,\u001b[49m\u001b[43m \u001b[49m\u001b[43mtotal_budget\u001b[49m\u001b[43m,\u001b[49m\u001b[43m \u001b[49m\u001b[43mmodel\u001b[49m\u001b[43m,\u001b[49m\u001b[43m \u001b[49m\u001b[43mX_avg\u001b[49m\u001b[43m,\u001b[49m\u001b[43m \u001b[49m\u001b[43mtransformed_cols\u001b[49m\u001b[43m)\u001b[49m\u001b[43m,\u001b[49m\n\u001b[1;32m     82\u001b[0m \u001b[43m    \u001b[49m\u001b[43mmethod\u001b[49m\u001b[38;5;241;43m=\u001b[39;49m\u001b[38;5;124;43m'\u001b[39;49m\u001b[38;5;124;43mSLSQP\u001b[39;49m\u001b[38;5;124;43m'\u001b[39;49m\u001b[43m,\u001b[49m\n\u001b[1;32m     83\u001b[0m \u001b[43m    \u001b[49m\u001b[43mbounds\u001b[49m\u001b[38;5;241;43m=\u001b[39;49m\u001b[43mbounds\u001b[49m\u001b[43m,\u001b[49m\n\u001b[1;32m     84\u001b[0m \u001b[43m    \u001b[49m\u001b[43mconstraints\u001b[49m\u001b[38;5;241;43m=\u001b[39;49m\u001b[43mconstraints\u001b[49m\n\u001b[1;32m     85\u001b[0m \u001b[43m\u001b[49m\u001b[43m)\u001b[49m\n\u001b[1;32m     87\u001b[0m \u001b[38;5;28;01mreturn\u001b[39;00m result\u001b[38;5;241m.\u001b[39mx\n",
      "File \u001b[0;32m~/Repos/media-mix-modeling/.venv/lib/python3.12/site-packages/scipy/optimize/_minimize.py:722\u001b[0m, in \u001b[0;36mminimize\u001b[0;34m(fun, x0, args, method, jac, hess, hessp, bounds, constraints, tol, callback, options)\u001b[0m\n\u001b[1;32m    719\u001b[0m     res \u001b[38;5;241m=\u001b[39m _minimize_cobyla(fun, x0, args, constraints, callback\u001b[38;5;241m=\u001b[39mcallback,\n\u001b[1;32m    720\u001b[0m                            bounds\u001b[38;5;241m=\u001b[39mbounds, \u001b[38;5;241m*\u001b[39m\u001b[38;5;241m*\u001b[39moptions)\n\u001b[1;32m    721\u001b[0m \u001b[38;5;28;01melif\u001b[39;00m meth \u001b[38;5;241m==\u001b[39m \u001b[38;5;124m'\u001b[39m\u001b[38;5;124mslsqp\u001b[39m\u001b[38;5;124m'\u001b[39m:\n\u001b[0;32m--> 722\u001b[0m     res \u001b[38;5;241m=\u001b[39m \u001b[43m_minimize_slsqp\u001b[49m\u001b[43m(\u001b[49m\u001b[43mfun\u001b[49m\u001b[43m,\u001b[49m\u001b[43m \u001b[49m\u001b[43mx0\u001b[49m\u001b[43m,\u001b[49m\u001b[43m \u001b[49m\u001b[43margs\u001b[49m\u001b[43m,\u001b[49m\u001b[43m \u001b[49m\u001b[43mjac\u001b[49m\u001b[43m,\u001b[49m\u001b[43m \u001b[49m\u001b[43mbounds\u001b[49m\u001b[43m,\u001b[49m\n\u001b[1;32m    723\u001b[0m \u001b[43m                          \u001b[49m\u001b[43mconstraints\u001b[49m\u001b[43m,\u001b[49m\u001b[43m \u001b[49m\u001b[43mcallback\u001b[49m\u001b[38;5;241;43m=\u001b[39;49m\u001b[43mcallback\u001b[49m\u001b[43m,\u001b[49m\u001b[43m \u001b[49m\u001b[38;5;241;43m*\u001b[39;49m\u001b[38;5;241;43m*\u001b[39;49m\u001b[43moptions\u001b[49m\u001b[43m)\u001b[49m\n\u001b[1;32m    724\u001b[0m \u001b[38;5;28;01melif\u001b[39;00m meth \u001b[38;5;241m==\u001b[39m \u001b[38;5;124m'\u001b[39m\u001b[38;5;124mtrust-constr\u001b[39m\u001b[38;5;124m'\u001b[39m:\n\u001b[1;32m    725\u001b[0m     res \u001b[38;5;241m=\u001b[39m _minimize_trustregion_constr(fun, x0, args, jac, hess, hessp,\n\u001b[1;32m    726\u001b[0m                                        bounds, constraints,\n\u001b[1;32m    727\u001b[0m                                        callback\u001b[38;5;241m=\u001b[39mcallback, \u001b[38;5;241m*\u001b[39m\u001b[38;5;241m*\u001b[39moptions)\n",
      "File \u001b[0;32m~/Repos/media-mix-modeling/.venv/lib/python3.12/site-packages/scipy/optimize/_slsqp_py.py:383\u001b[0m, in \u001b[0;36m_minimize_slsqp\u001b[0;34m(func, x0, args, jac, bounds, constraints, maxiter, ftol, iprint, disp, eps, callback, finite_diff_rel_step, **unknown_options)\u001b[0m\n\u001b[1;32m    380\u001b[0m     xu[infbnd[:, \u001b[38;5;241m1\u001b[39m]] \u001b[38;5;241m=\u001b[39m np\u001b[38;5;241m.\u001b[39mnan\n\u001b[1;32m    382\u001b[0m \u001b[38;5;66;03m# ScalarFunction provides function and gradient evaluation\u001b[39;00m\n\u001b[0;32m--> 383\u001b[0m sf \u001b[38;5;241m=\u001b[39m \u001b[43m_prepare_scalar_function\u001b[49m\u001b[43m(\u001b[49m\u001b[43mfunc\u001b[49m\u001b[43m,\u001b[49m\u001b[43m \u001b[49m\u001b[43mx\u001b[49m\u001b[43m,\u001b[49m\u001b[43m \u001b[49m\u001b[43mjac\u001b[49m\u001b[38;5;241;43m=\u001b[39;49m\u001b[43mjac\u001b[49m\u001b[43m,\u001b[49m\u001b[43m \u001b[49m\u001b[43margs\u001b[49m\u001b[38;5;241;43m=\u001b[39;49m\u001b[43margs\u001b[49m\u001b[43m,\u001b[49m\u001b[43m \u001b[49m\u001b[43mepsilon\u001b[49m\u001b[38;5;241;43m=\u001b[39;49m\u001b[43meps\u001b[49m\u001b[43m,\u001b[49m\n\u001b[1;32m    384\u001b[0m \u001b[43m                              \u001b[49m\u001b[43mfinite_diff_rel_step\u001b[49m\u001b[38;5;241;43m=\u001b[39;49m\u001b[43mfinite_diff_rel_step\u001b[49m\u001b[43m,\u001b[49m\n\u001b[1;32m    385\u001b[0m \u001b[43m                              \u001b[49m\u001b[43mbounds\u001b[49m\u001b[38;5;241;43m=\u001b[39;49m\u001b[43mnew_bounds\u001b[49m\u001b[43m)\u001b[49m\n\u001b[1;32m    386\u001b[0m \u001b[38;5;66;03m# gh11403 SLSQP sometimes exceeds bounds by 1 or 2 ULP, make sure this\u001b[39;00m\n\u001b[1;32m    387\u001b[0m \u001b[38;5;66;03m# doesn't get sent to the func/grad evaluator.\u001b[39;00m\n\u001b[1;32m    388\u001b[0m wrapped_fun \u001b[38;5;241m=\u001b[39m _clip_x_for_func(sf\u001b[38;5;241m.\u001b[39mfun, new_bounds)\n",
      "File \u001b[0;32m~/Repos/media-mix-modeling/.venv/lib/python3.12/site-packages/scipy/optimize/_optimize.py:402\u001b[0m, in \u001b[0;36m_prepare_scalar_function\u001b[0;34m(fun, x0, jac, args, bounds, epsilon, finite_diff_rel_step, hess)\u001b[0m\n\u001b[1;32m    398\u001b[0m     bounds \u001b[38;5;241m=\u001b[39m (\u001b[38;5;241m-\u001b[39mnp\u001b[38;5;241m.\u001b[39minf, np\u001b[38;5;241m.\u001b[39minf)\n\u001b[1;32m    400\u001b[0m \u001b[38;5;66;03m# ScalarFunction caches. Reuse of fun(x) during grad\u001b[39;00m\n\u001b[1;32m    401\u001b[0m \u001b[38;5;66;03m# calculation reduces overall function evaluations.\u001b[39;00m\n\u001b[0;32m--> 402\u001b[0m sf \u001b[38;5;241m=\u001b[39m \u001b[43mScalarFunction\u001b[49m\u001b[43m(\u001b[49m\u001b[43mfun\u001b[49m\u001b[43m,\u001b[49m\u001b[43m \u001b[49m\u001b[43mx0\u001b[49m\u001b[43m,\u001b[49m\u001b[43m \u001b[49m\u001b[43margs\u001b[49m\u001b[43m,\u001b[49m\u001b[43m \u001b[49m\u001b[43mgrad\u001b[49m\u001b[43m,\u001b[49m\u001b[43m \u001b[49m\u001b[43mhess\u001b[49m\u001b[43m,\u001b[49m\n\u001b[1;32m    403\u001b[0m \u001b[43m                    \u001b[49m\u001b[43mfinite_diff_rel_step\u001b[49m\u001b[43m,\u001b[49m\u001b[43m \u001b[49m\u001b[43mbounds\u001b[49m\u001b[43m,\u001b[49m\u001b[43m \u001b[49m\u001b[43mepsilon\u001b[49m\u001b[38;5;241;43m=\u001b[39;49m\u001b[43mepsilon\u001b[49m\u001b[43m)\u001b[49m\n\u001b[1;32m    405\u001b[0m \u001b[38;5;28;01mreturn\u001b[39;00m sf\n",
      "File \u001b[0;32m~/Repos/media-mix-modeling/.venv/lib/python3.12/site-packages/scipy/optimize/_differentiable_functions.py:166\u001b[0m, in \u001b[0;36mScalarFunction.__init__\u001b[0;34m(self, fun, x0, args, grad, hess, finite_diff_rel_step, finite_diff_bounds, epsilon)\u001b[0m\n\u001b[1;32m    163\u001b[0m     \u001b[38;5;28mself\u001b[39m\u001b[38;5;241m.\u001b[39mf \u001b[38;5;241m=\u001b[39m fun_wrapped(\u001b[38;5;28mself\u001b[39m\u001b[38;5;241m.\u001b[39mx)\n\u001b[1;32m    165\u001b[0m \u001b[38;5;28mself\u001b[39m\u001b[38;5;241m.\u001b[39m_update_fun_impl \u001b[38;5;241m=\u001b[39m update_fun\n\u001b[0;32m--> 166\u001b[0m \u001b[38;5;28;43mself\u001b[39;49m\u001b[38;5;241;43m.\u001b[39;49m\u001b[43m_update_fun\u001b[49m\u001b[43m(\u001b[49m\u001b[43m)\u001b[49m\n\u001b[1;32m    168\u001b[0m \u001b[38;5;66;03m# Gradient evaluation\u001b[39;00m\n\u001b[1;32m    169\u001b[0m \u001b[38;5;28;01mif\u001b[39;00m \u001b[38;5;28mcallable\u001b[39m(grad):\n",
      "File \u001b[0;32m~/Repos/media-mix-modeling/.venv/lib/python3.12/site-packages/scipy/optimize/_differentiable_functions.py:262\u001b[0m, in \u001b[0;36mScalarFunction._update_fun\u001b[0;34m(self)\u001b[0m\n\u001b[1;32m    260\u001b[0m \u001b[38;5;28;01mdef\u001b[39;00m\u001b[38;5;250m \u001b[39m\u001b[38;5;21m_update_fun\u001b[39m(\u001b[38;5;28mself\u001b[39m):\n\u001b[1;32m    261\u001b[0m     \u001b[38;5;28;01mif\u001b[39;00m \u001b[38;5;129;01mnot\u001b[39;00m \u001b[38;5;28mself\u001b[39m\u001b[38;5;241m.\u001b[39mf_updated:\n\u001b[0;32m--> 262\u001b[0m         \u001b[38;5;28;43mself\u001b[39;49m\u001b[38;5;241;43m.\u001b[39;49m\u001b[43m_update_fun_impl\u001b[49m\u001b[43m(\u001b[49m\u001b[43m)\u001b[49m\n\u001b[1;32m    263\u001b[0m         \u001b[38;5;28mself\u001b[39m\u001b[38;5;241m.\u001b[39mf_updated \u001b[38;5;241m=\u001b[39m \u001b[38;5;28;01mTrue\u001b[39;00m\n",
      "File \u001b[0;32m~/Repos/media-mix-modeling/.venv/lib/python3.12/site-packages/scipy/optimize/_differentiable_functions.py:163\u001b[0m, in \u001b[0;36mScalarFunction.__init__.<locals>.update_fun\u001b[0;34m()\u001b[0m\n\u001b[1;32m    162\u001b[0m \u001b[38;5;28;01mdef\u001b[39;00m\u001b[38;5;250m \u001b[39m\u001b[38;5;21mupdate_fun\u001b[39m():\n\u001b[0;32m--> 163\u001b[0m     \u001b[38;5;28mself\u001b[39m\u001b[38;5;241m.\u001b[39mf \u001b[38;5;241m=\u001b[39m \u001b[43mfun_wrapped\u001b[49m\u001b[43m(\u001b[49m\u001b[38;5;28;43mself\u001b[39;49m\u001b[38;5;241;43m.\u001b[39;49m\u001b[43mx\u001b[49m\u001b[43m)\u001b[49m\n",
      "File \u001b[0;32m~/Repos/media-mix-modeling/.venv/lib/python3.12/site-packages/scipy/optimize/_differentiable_functions.py:145\u001b[0m, in \u001b[0;36mScalarFunction.__init__.<locals>.fun_wrapped\u001b[0;34m(x)\u001b[0m\n\u001b[1;32m    141\u001b[0m \u001b[38;5;28mself\u001b[39m\u001b[38;5;241m.\u001b[39mnfev \u001b[38;5;241m+\u001b[39m\u001b[38;5;241m=\u001b[39m \u001b[38;5;241m1\u001b[39m\n\u001b[1;32m    142\u001b[0m \u001b[38;5;66;03m# Send a copy because the user may overwrite it.\u001b[39;00m\n\u001b[1;32m    143\u001b[0m \u001b[38;5;66;03m# Overwriting results in undefined behaviour because\u001b[39;00m\n\u001b[1;32m    144\u001b[0m \u001b[38;5;66;03m# fun(self.x) will change self.x, with the two no longer linked.\u001b[39;00m\n\u001b[0;32m--> 145\u001b[0m fx \u001b[38;5;241m=\u001b[39m \u001b[43mfun\u001b[49m\u001b[43m(\u001b[49m\u001b[43mnp\u001b[49m\u001b[38;5;241;43m.\u001b[39;49m\u001b[43mcopy\u001b[49m\u001b[43m(\u001b[49m\u001b[43mx\u001b[49m\u001b[43m)\u001b[49m\u001b[43m,\u001b[49m\u001b[43m \u001b[49m\u001b[38;5;241;43m*\u001b[39;49m\u001b[43margs\u001b[49m\u001b[43m)\u001b[49m\n\u001b[1;32m    146\u001b[0m \u001b[38;5;66;03m# Make sure the function returns a true scalar\u001b[39;00m\n\u001b[1;32m    147\u001b[0m \u001b[38;5;28;01mif\u001b[39;00m \u001b[38;5;129;01mnot\u001b[39;00m np\u001b[38;5;241m.\u001b[39misscalar(fx):\n",
      "Cell \u001b[0;32mIn[14], line 39\u001b[0m, in \u001b[0;36mobjective_function\u001b[0;34m(spend_values, media_cols, total_budget, model, X_avg, feature_cols)\u001b[0m\n\u001b[1;32m     36\u001b[0m     \u001b[38;5;28;01mreturn\u001b[39;00m \u001b[38;5;241m1e10\u001b[39m  \u001b[38;5;66;03m# Large penalty for exceeding budget\u001b[39;00m\n\u001b[1;32m     38\u001b[0m \u001b[38;5;66;03m# Convert original spend to transformed values\u001b[39;00m\n\u001b[0;32m---> 39\u001b[0m transformed_values \u001b[38;5;241m=\u001b[39m \u001b[43moriginal_to_transformed\u001b[49m\u001b[43m(\u001b[49m\u001b[43mspend_values\u001b[49m\u001b[43m,\u001b[49m\u001b[43m \u001b[49m\u001b[43mmedia_cols\u001b[49m\u001b[43m)\u001b[49m\n\u001b[1;32m     41\u001b[0m \u001b[38;5;66;03m# Create prediction array\u001b[39;00m\n\u001b[1;32m     42\u001b[0m X_pred \u001b[38;5;241m=\u001b[39m X_avg\u001b[38;5;241m.\u001b[39mcopy()\n",
      "Cell \u001b[0;32mIn[14], line 8\u001b[0m, in \u001b[0;36moriginal_to_transformed\u001b[0;34m(spend_values, media_cols)\u001b[0m\n\u001b[1;32m      4\u001b[0m transformed_values \u001b[38;5;241m=\u001b[39m []\n\u001b[1;32m      6\u001b[0m \u001b[38;5;28;01mfor\u001b[39;00m i, col \u001b[38;5;129;01min\u001b[39;00m \u001b[38;5;28menumerate\u001b[39m(media_cols):\n\u001b[1;32m      7\u001b[0m     \u001b[38;5;66;03m# Apply adstock\u001b[39;00m\n\u001b[0;32m----> 8\u001b[0m     adstocked \u001b[38;5;241m=\u001b[39m \u001b[43mgeometric_adstock\u001b[49m\u001b[43m(\u001b[49m\u001b[43mnp\u001b[49m\u001b[38;5;241;43m.\u001b[39;49m\u001b[43marray\u001b[49m\u001b[43m(\u001b[49m\u001b[43m[\u001b[49m\u001b[43mspend_values\u001b[49m\u001b[43m[\u001b[49m\u001b[43mi\u001b[49m\u001b[43m]\u001b[49m\u001b[43m]\u001b[49m\u001b[43m)\u001b[49m\u001b[43m)\u001b[49m\u001b[38;5;241m.\u001b[39meval()\n\u001b[1;32m     10\u001b[0m     \u001b[38;5;66;03m# Apply hill transformation with stored parameters\u001b[39;00m\n\u001b[1;32m     11\u001b[0m     k \u001b[38;5;241m=\u001b[39m saturation_params[col][\u001b[38;5;124m'\u001b[39m\u001b[38;5;124mk\u001b[39m\u001b[38;5;124m'\u001b[39m]\n",
      "File \u001b[0;32m~/Repos/media-mix-modeling/mediamix/transforms.py:22\u001b[0m, in \u001b[0;36mgeometric_adstock\u001b[0;34m(x, alpha, L, normalize)\u001b[0m\n\u001b[1;32m     12\u001b[0m \u001b[38;5;250m\u001b[39m\u001b[38;5;124;03m\"\"\"Geometric Adstock Function.\u001b[39;00m\n\u001b[1;32m     13\u001b[0m \n\u001b[1;32m     14\u001b[0m \u001b[38;5;124;03m:param x: Input media spend vector\u001b[39;00m\n\u001b[0;32m   (...)\u001b[0m\n\u001b[1;32m     18\u001b[0m \u001b[38;5;124;03m:return: Transformed spend vector\u001b[39;00m\n\u001b[1;32m     19\u001b[0m \u001b[38;5;124;03m\"\"\"\u001b[39;00m\n\u001b[1;32m     21\u001b[0m w \u001b[38;5;241m=\u001b[39m tt\u001b[38;5;241m.\u001b[39mas_tensor_variable([tt\u001b[38;5;241m.\u001b[39mpower(alpha, i) \u001b[38;5;28;01mfor\u001b[39;00m i \u001b[38;5;129;01min\u001b[39;00m \u001b[38;5;28mrange\u001b[39m(L)])\n\u001b[0;32m---> 22\u001b[0m xx \u001b[38;5;241m=\u001b[39m \u001b[43mtt\u001b[49m\u001b[38;5;241;43m.\u001b[39;49m\u001b[43mstack\u001b[49m\u001b[43m(\u001b[49m\n\u001b[1;32m     23\u001b[0m \u001b[43m    \u001b[49m\u001b[43m[\u001b[49m\u001b[43mtt\u001b[49m\u001b[38;5;241;43m.\u001b[39;49m\u001b[43mconcatenate\u001b[49m\u001b[43m(\u001b[49m\u001b[43m[\u001b[49m\u001b[43mtt\u001b[49m\u001b[38;5;241;43m.\u001b[39;49m\u001b[43mzeros\u001b[49m\u001b[43m(\u001b[49m\u001b[43mi\u001b[49m\u001b[43m)\u001b[49m\u001b[43m,\u001b[49m\u001b[43m \u001b[49m\u001b[43mx\u001b[49m\u001b[43m[\u001b[49m\u001b[43m:\u001b[49m\u001b[43m \u001b[49m\u001b[43mx\u001b[49m\u001b[38;5;241;43m.\u001b[39;49m\u001b[43mshape\u001b[49m\u001b[43m[\u001b[49m\u001b[38;5;241;43m0\u001b[39;49m\u001b[43m]\u001b[49m\u001b[43m \u001b[49m\u001b[38;5;241;43m-\u001b[39;49m\u001b[43m \u001b[49m\u001b[43mi\u001b[49m\u001b[43m]\u001b[49m\u001b[43m]\u001b[49m\u001b[43m)\u001b[49m\u001b[43m \u001b[49m\u001b[38;5;28;43;01mfor\u001b[39;49;00m\u001b[43m \u001b[49m\u001b[43mi\u001b[49m\u001b[43m \u001b[49m\u001b[38;5;129;43;01min\u001b[39;49;00m\u001b[43m \u001b[49m\u001b[38;5;28;43mrange\u001b[39;49m\u001b[43m(\u001b[49m\u001b[43mL\u001b[49m\u001b[43m)\u001b[49m\u001b[43m]\u001b[49m\n\u001b[1;32m     24\u001b[0m \u001b[43m\u001b[49m\u001b[43m)\u001b[49m\n\u001b[1;32m     26\u001b[0m \u001b[38;5;28;01mif\u001b[39;00m \u001b[38;5;129;01mnot\u001b[39;00m normalize:\n\u001b[1;32m     27\u001b[0m     y \u001b[38;5;241m=\u001b[39m tt\u001b[38;5;241m.\u001b[39mdot(w, xx)\n",
      "File \u001b[0;32m~/Repos/media-mix-modeling/.venv/lib/python3.12/site-packages/pytensor/tensor/basic.py:2948\u001b[0m, in \u001b[0;36mstack\u001b[0;34m(tensors, axis)\u001b[0m\n\u001b[1;32m   2946\u001b[0m     dtype \u001b[38;5;241m=\u001b[39m ps\u001b[38;5;241m.\u001b[39mupcast(\u001b[38;5;241m*\u001b[39m[i\u001b[38;5;241m.\u001b[39mdtype \u001b[38;5;28;01mfor\u001b[39;00m i \u001b[38;5;129;01min\u001b[39;00m tensors])\n\u001b[1;32m   2947\u001b[0m     \u001b[38;5;28;01mreturn\u001b[39;00m MakeVector(dtype)(\u001b[38;5;241m*\u001b[39mtensors)\n\u001b[0;32m-> 2948\u001b[0m \u001b[38;5;28;01mreturn\u001b[39;00m \u001b[43mjoin\u001b[49m\u001b[43m(\u001b[49m\u001b[43maxis\u001b[49m\u001b[43m,\u001b[49m\u001b[43m \u001b[49m\u001b[38;5;241;43m*\u001b[39;49m\u001b[43m[\u001b[49m\u001b[43mshape_padaxis\u001b[49m\u001b[43m(\u001b[49m\u001b[43mt\u001b[49m\u001b[43m,\u001b[49m\u001b[43m \u001b[49m\u001b[43maxis\u001b[49m\u001b[43m)\u001b[49m\u001b[43m \u001b[49m\u001b[38;5;28;43;01mfor\u001b[39;49;00m\u001b[43m \u001b[49m\u001b[43mt\u001b[49m\u001b[43m \u001b[49m\u001b[38;5;129;43;01min\u001b[39;49;00m\u001b[43m \u001b[49m\u001b[43mtensors\u001b[49m\u001b[43m]\u001b[49m\u001b[43m)\u001b[49m\n",
      "File \u001b[0;32m~/Repos/media-mix-modeling/.venv/lib/python3.12/site-packages/pytensor/tensor/basic.py:2790\u001b[0m, in \u001b[0;36mjoin\u001b[0;34m(axis, *tensors_list)\u001b[0m\n\u001b[1;32m   2788\u001b[0m     \u001b[38;5;28;01mreturn\u001b[39;00m tensors_list[\u001b[38;5;241m0\u001b[39m]\n\u001b[1;32m   2789\u001b[0m \u001b[38;5;28;01melse\u001b[39;00m:\n\u001b[0;32m-> 2790\u001b[0m     \u001b[38;5;28;01mreturn\u001b[39;00m \u001b[43mjoin_\u001b[49m\u001b[43m(\u001b[49m\u001b[43maxis\u001b[49m\u001b[43m,\u001b[49m\u001b[43m \u001b[49m\u001b[38;5;241;43m*\u001b[39;49m\u001b[43mtensors_list\u001b[49m\u001b[43m)\u001b[49m\n",
      "File \u001b[0;32m~/Repos/media-mix-modeling/.venv/lib/python3.12/site-packages/pytensor/graph/op.py:293\u001b[0m, in \u001b[0;36mOp.__call__\u001b[0;34m(self, name, return_list, *inputs, **kwargs)\u001b[0m\n\u001b[1;32m    249\u001b[0m \u001b[38;5;28;01mdef\u001b[39;00m\u001b[38;5;250m \u001b[39m\u001b[38;5;21m__call__\u001b[39m(\n\u001b[1;32m    250\u001b[0m     \u001b[38;5;28mself\u001b[39m, \u001b[38;5;241m*\u001b[39minputs: Any, name\u001b[38;5;241m=\u001b[39m\u001b[38;5;28;01mNone\u001b[39;00m, return_list\u001b[38;5;241m=\u001b[39m\u001b[38;5;28;01mFalse\u001b[39;00m, \u001b[38;5;241m*\u001b[39m\u001b[38;5;241m*\u001b[39mkwargs\n\u001b[1;32m    251\u001b[0m ) \u001b[38;5;241m-\u001b[39m\u001b[38;5;241m>\u001b[39m Variable \u001b[38;5;241m|\u001b[39m \u001b[38;5;28mlist\u001b[39m[Variable]:\n\u001b[1;32m    252\u001b[0m \u001b[38;5;250m    \u001b[39m\u001b[38;5;124mr\u001b[39m\u001b[38;5;124;03m\"\"\"Construct an `Apply` node using :meth:`Op.make_node` and return its outputs.\u001b[39;00m\n\u001b[1;32m    253\u001b[0m \n\u001b[1;32m    254\u001b[0m \u001b[38;5;124;03m    This method is just a wrapper around :meth:`Op.make_node`.\u001b[39;00m\n\u001b[0;32m   (...)\u001b[0m\n\u001b[1;32m    291\u001b[0m \n\u001b[1;32m    292\u001b[0m \u001b[38;5;124;03m    \"\"\"\u001b[39;00m\n\u001b[0;32m--> 293\u001b[0m     node \u001b[38;5;241m=\u001b[39m \u001b[38;5;28;43mself\u001b[39;49m\u001b[38;5;241;43m.\u001b[39;49m\u001b[43mmake_node\u001b[49m\u001b[43m(\u001b[49m\u001b[38;5;241;43m*\u001b[39;49m\u001b[43minputs\u001b[49m\u001b[43m,\u001b[49m\u001b[43m \u001b[49m\u001b[38;5;241;43m*\u001b[39;49m\u001b[38;5;241;43m*\u001b[39;49m\u001b[43mkwargs\u001b[49m\u001b[43m)\u001b[49m\n\u001b[1;32m    294\u001b[0m     \u001b[38;5;28;01mif\u001b[39;00m name \u001b[38;5;129;01mis\u001b[39;00m \u001b[38;5;129;01mnot\u001b[39;00m \u001b[38;5;28;01mNone\u001b[39;00m:\n\u001b[1;32m    295\u001b[0m         \u001b[38;5;28;01mif\u001b[39;00m \u001b[38;5;28mlen\u001b[39m(node\u001b[38;5;241m.\u001b[39moutputs) \u001b[38;5;241m==\u001b[39m \u001b[38;5;241m1\u001b[39m:\n",
      "File \u001b[0;32m~/Repos/media-mix-modeling/.venv/lib/python3.12/site-packages/pytensor/tensor/basic.py:2566\u001b[0m, in \u001b[0;36mJoin.make_node\u001b[0;34m(self, axis, *tensors)\u001b[0m\n\u001b[1;32m   2564\u001b[0m                 (out_shape[d],) \u001b[38;5;241m=\u001b[39m inset \u001b[38;5;241m-\u001b[39m {\u001b[38;5;28;01mNone\u001b[39;00m}\n\u001b[1;32m   2565\u001b[0m             \u001b[38;5;28;01melse\u001b[39;00m:\n\u001b[0;32m-> 2566\u001b[0m                 \u001b[38;5;28;01mraise\u001b[39;00m \u001b[38;5;167;01mValueError\u001b[39;00m(\n\u001b[1;32m   2567\u001b[0m                     \u001b[38;5;124mf\u001b[39m\u001b[38;5;124m\"\u001b[39m\u001b[38;5;124mall input array dimensions other than the specified `axis` (\u001b[39m\u001b[38;5;132;01m{\u001b[39;00maxis\u001b[38;5;132;01m}\u001b[39;00m\u001b[38;5;124m)\u001b[39m\u001b[38;5;124m\"\u001b[39m\n\u001b[1;32m   2568\u001b[0m                     \u001b[38;5;124m\"\u001b[39m\u001b[38;5;124m must match exactly, or be unknown (None),\u001b[39m\u001b[38;5;124m\"\u001b[39m\n\u001b[1;32m   2569\u001b[0m                     \u001b[38;5;124mf\u001b[39m\u001b[38;5;124m\"\u001b[39m\u001b[38;5;124m but along dimension \u001b[39m\u001b[38;5;132;01m{\u001b[39;00md\u001b[38;5;132;01m}\u001b[39;00m\u001b[38;5;124m, the inputs shapes are incompatible: \u001b[39m\u001b[38;5;132;01m{\u001b[39;00mins\u001b[38;5;132;01m}\u001b[39;00m\u001b[38;5;124m\"\u001b[39m\n\u001b[1;32m   2570\u001b[0m                 )\n\u001b[1;32m   2571\u001b[0m \u001b[38;5;28;01melse\u001b[39;00m:\n\u001b[1;32m   2572\u001b[0m     \u001b[38;5;66;03m# When the axis may vary, no dimension can be guaranteed to be\u001b[39;00m\n\u001b[1;32m   2573\u001b[0m     \u001b[38;5;66;03m# broadcastable.\u001b[39;00m\n\u001b[1;32m   2574\u001b[0m     out_shape \u001b[38;5;241m=\u001b[39m [\u001b[38;5;28;01mNone\u001b[39;00m] \u001b[38;5;241m*\u001b[39m tensors[\u001b[38;5;241m0\u001b[39m]\u001b[38;5;241m.\u001b[39mtype\u001b[38;5;241m.\u001b[39mndim\n",
      "\u001b[0;31mValueError\u001b[0m: all input array dimensions other than the specified `axis` (0) must match exactly, or be unknown (None), but along dimension 1, the inputs shapes are incompatible: [ 1  1  2  3  4  5  6  7  8  9 10 11]"
     ]
    }
   ],
   "source": [
    " # Run optimization\n",
    "optimal_allocation = optimize_budget(\n",
    "    model, \n",
    "    col_sets['media_spend'], \n",
    "    transformed_media_cols, \n",
    "    total_budget, \n",
    "    X_avg\n",
    ")"
   ]
  },
  {
   "cell_type": "code",
   "execution_count": 26,
   "metadata": {},
   "outputs": [
    {
     "ename": "ValueError",
     "evalue": "all input array dimensions other than the specified `axis` (0) must match exactly, or be unknown (None), but along dimension 1, the inputs shapes are incompatible: [ 1  1  2  3  4  5  6  7  8  9 10 11]",
     "output_type": "error",
     "traceback": [
      "\u001b[0;31m---------------------------------------------------------------------------\u001b[0m",
      "\u001b[0;31mValueError\u001b[0m                                Traceback (most recent call last)",
      "Cell \u001b[0;32mIn[26], line 2\u001b[0m\n\u001b[1;32m      1\u001b[0m \u001b[38;5;66;03m# Run optimization\u001b[39;00m\n\u001b[0;32m----> 2\u001b[0m optimal_allocation \u001b[38;5;241m=\u001b[39m \u001b[43moptimize_budget\u001b[49m\u001b[43m(\u001b[49m\n\u001b[1;32m      3\u001b[0m \u001b[43m   \u001b[49m\u001b[43mmodel\u001b[49m\u001b[43m,\u001b[49m\u001b[43m \u001b[49m\n\u001b[1;32m      4\u001b[0m \u001b[43m   \u001b[49m\u001b[43mcol_sets\u001b[49m\u001b[43m[\u001b[49m\u001b[38;5;124;43m'\u001b[39;49m\u001b[38;5;124;43mmedia_spend\u001b[39;49m\u001b[38;5;124;43m'\u001b[39;49m\u001b[43m]\u001b[49m\u001b[43m,\u001b[49m\u001b[43m \u001b[49m\n\u001b[1;32m      5\u001b[0m \u001b[43m   \u001b[49m\u001b[43mtransformed_media_cols\u001b[49m\u001b[43m,\u001b[49m\u001b[43m \u001b[49m\n\u001b[1;32m      6\u001b[0m \u001b[43m   \u001b[49m\u001b[43mtotal_budget\u001b[49m\u001b[43m,\u001b[49m\u001b[43m \u001b[49m\n\u001b[1;32m      7\u001b[0m \u001b[43m   \u001b[49m\u001b[43mX_avg\u001b[49m\n\u001b[1;32m      8\u001b[0m \u001b[43m)\u001b[49m\n\u001b[1;32m     10\u001b[0m \u001b[38;5;66;03m# Compare current vs. optimized allocation\u001b[39;00m\n\u001b[1;32m     11\u001b[0m comparison \u001b[38;5;241m=\u001b[39m pd\u001b[38;5;241m.\u001b[39mDataFrame({\n\u001b[1;32m     12\u001b[0m    \u001b[38;5;124m'\u001b[39m\u001b[38;5;124mChannel\u001b[39m\u001b[38;5;124m'\u001b[39m: col_sets[\u001b[38;5;124m'\u001b[39m\u001b[38;5;124mmedia_spend\u001b[39m\u001b[38;5;124m'\u001b[39m],\n\u001b[1;32m     13\u001b[0m    \u001b[38;5;124m'\u001b[39m\u001b[38;5;124mCurrent Spend\u001b[39m\u001b[38;5;124m'\u001b[39m: df[col_sets[\u001b[38;5;124m'\u001b[39m\u001b[38;5;124mmedia_spend\u001b[39m\u001b[38;5;124m'\u001b[39m]]\u001b[38;5;241m.\u001b[39mmean()\u001b[38;5;241m.\u001b[39mvalues,\n\u001b[1;32m     14\u001b[0m    \u001b[38;5;124m'\u001b[39m\u001b[38;5;124mOptimized Spend\u001b[39m\u001b[38;5;124m'\u001b[39m: optimal_allocation,\n\u001b[1;32m     15\u001b[0m    \u001b[38;5;124m'\u001b[39m\u001b[38;5;124mChange \u001b[39m\u001b[38;5;124m%\u001b[39m\u001b[38;5;124m'\u001b[39m: ((optimal_allocation \u001b[38;5;241m/\u001b[39m df[col_sets[\u001b[38;5;124m'\u001b[39m\u001b[38;5;124mmedia_spend\u001b[39m\u001b[38;5;124m'\u001b[39m]]\u001b[38;5;241m.\u001b[39mmean()\u001b[38;5;241m.\u001b[39mvalues) \u001b[38;5;241m-\u001b[39m \u001b[38;5;241m1\u001b[39m) \u001b[38;5;241m*\u001b[39m \u001b[38;5;241m100\u001b[39m\n\u001b[1;32m     16\u001b[0m })\n",
      "Cell \u001b[0;32mIn[23], line 78\u001b[0m, in \u001b[0;36moptimize_budget\u001b[0;34m(model, media_cols, transformed_cols, total_budget, X_avg)\u001b[0m\n\u001b[1;32m     75\u001b[0m constraints \u001b[38;5;241m=\u001b[39m [{\u001b[38;5;124m'\u001b[39m\u001b[38;5;124mtype\u001b[39m\u001b[38;5;124m'\u001b[39m: \u001b[38;5;124m'\u001b[39m\u001b[38;5;124meq\u001b[39m\u001b[38;5;124m'\u001b[39m, \u001b[38;5;124m'\u001b[39m\u001b[38;5;124mfun\u001b[39m\u001b[38;5;124m'\u001b[39m: budget_constraint}]\n\u001b[1;32m     77\u001b[0m \u001b[38;5;66;03m# Run optimization\u001b[39;00m\n\u001b[0;32m---> 78\u001b[0m result \u001b[38;5;241m=\u001b[39m \u001b[43moptimize\u001b[49m\u001b[38;5;241;43m.\u001b[39;49m\u001b[43mminimize\u001b[49m\u001b[43m(\u001b[49m\n\u001b[1;32m     79\u001b[0m \u001b[43m    \u001b[49m\u001b[43mobjective_function\u001b[49m\u001b[43m,\u001b[49m\n\u001b[1;32m     80\u001b[0m \u001b[43m    \u001b[49m\u001b[43mcurrent_spend\u001b[49m\u001b[43m,\u001b[49m\n\u001b[1;32m     81\u001b[0m \u001b[43m    \u001b[49m\u001b[43margs\u001b[49m\u001b[38;5;241;43m=\u001b[39;49m\u001b[43m(\u001b[49m\u001b[43mmedia_cols\u001b[49m\u001b[43m,\u001b[49m\u001b[43m \u001b[49m\u001b[43mtotal_budget\u001b[49m\u001b[43m,\u001b[49m\u001b[43m \u001b[49m\u001b[43mmodel\u001b[49m\u001b[43m,\u001b[49m\u001b[43m \u001b[49m\u001b[43mX_avg\u001b[49m\u001b[43m,\u001b[49m\u001b[43m \u001b[49m\u001b[43mtransformed_cols\u001b[49m\u001b[43m)\u001b[49m\u001b[43m,\u001b[49m\n\u001b[1;32m     82\u001b[0m \u001b[43m    \u001b[49m\u001b[43mmethod\u001b[49m\u001b[38;5;241;43m=\u001b[39;49m\u001b[38;5;124;43m'\u001b[39;49m\u001b[38;5;124;43mSLSQP\u001b[39;49m\u001b[38;5;124;43m'\u001b[39;49m\u001b[43m,\u001b[49m\n\u001b[1;32m     83\u001b[0m \u001b[43m    \u001b[49m\u001b[43mbounds\u001b[49m\u001b[38;5;241;43m=\u001b[39;49m\u001b[43mbounds\u001b[49m\u001b[43m,\u001b[49m\n\u001b[1;32m     84\u001b[0m \u001b[43m    \u001b[49m\u001b[43mconstraints\u001b[49m\u001b[38;5;241;43m=\u001b[39;49m\u001b[43mconstraints\u001b[49m\n\u001b[1;32m     85\u001b[0m \u001b[43m\u001b[49m\u001b[43m)\u001b[49m\n\u001b[1;32m     87\u001b[0m \u001b[38;5;28;01mreturn\u001b[39;00m result\u001b[38;5;241m.\u001b[39mx\n",
      "File \u001b[0;32m~/Repos/media-mix-modeling/.venv/lib/python3.12/site-packages/scipy/optimize/_minimize.py:722\u001b[0m, in \u001b[0;36mminimize\u001b[0;34m(fun, x0, args, method, jac, hess, hessp, bounds, constraints, tol, callback, options)\u001b[0m\n\u001b[1;32m    719\u001b[0m     res \u001b[38;5;241m=\u001b[39m _minimize_cobyla(fun, x0, args, constraints, callback\u001b[38;5;241m=\u001b[39mcallback,\n\u001b[1;32m    720\u001b[0m                            bounds\u001b[38;5;241m=\u001b[39mbounds, \u001b[38;5;241m*\u001b[39m\u001b[38;5;241m*\u001b[39moptions)\n\u001b[1;32m    721\u001b[0m \u001b[38;5;28;01melif\u001b[39;00m meth \u001b[38;5;241m==\u001b[39m \u001b[38;5;124m'\u001b[39m\u001b[38;5;124mslsqp\u001b[39m\u001b[38;5;124m'\u001b[39m:\n\u001b[0;32m--> 722\u001b[0m     res \u001b[38;5;241m=\u001b[39m \u001b[43m_minimize_slsqp\u001b[49m\u001b[43m(\u001b[49m\u001b[43mfun\u001b[49m\u001b[43m,\u001b[49m\u001b[43m \u001b[49m\u001b[43mx0\u001b[49m\u001b[43m,\u001b[49m\u001b[43m \u001b[49m\u001b[43margs\u001b[49m\u001b[43m,\u001b[49m\u001b[43m \u001b[49m\u001b[43mjac\u001b[49m\u001b[43m,\u001b[49m\u001b[43m \u001b[49m\u001b[43mbounds\u001b[49m\u001b[43m,\u001b[49m\n\u001b[1;32m    723\u001b[0m \u001b[43m                          \u001b[49m\u001b[43mconstraints\u001b[49m\u001b[43m,\u001b[49m\u001b[43m \u001b[49m\u001b[43mcallback\u001b[49m\u001b[38;5;241;43m=\u001b[39;49m\u001b[43mcallback\u001b[49m\u001b[43m,\u001b[49m\u001b[43m \u001b[49m\u001b[38;5;241;43m*\u001b[39;49m\u001b[38;5;241;43m*\u001b[39;49m\u001b[43moptions\u001b[49m\u001b[43m)\u001b[49m\n\u001b[1;32m    724\u001b[0m \u001b[38;5;28;01melif\u001b[39;00m meth \u001b[38;5;241m==\u001b[39m \u001b[38;5;124m'\u001b[39m\u001b[38;5;124mtrust-constr\u001b[39m\u001b[38;5;124m'\u001b[39m:\n\u001b[1;32m    725\u001b[0m     res \u001b[38;5;241m=\u001b[39m _minimize_trustregion_constr(fun, x0, args, jac, hess, hessp,\n\u001b[1;32m    726\u001b[0m                                        bounds, constraints,\n\u001b[1;32m    727\u001b[0m                                        callback\u001b[38;5;241m=\u001b[39mcallback, \u001b[38;5;241m*\u001b[39m\u001b[38;5;241m*\u001b[39moptions)\n",
      "File \u001b[0;32m~/Repos/media-mix-modeling/.venv/lib/python3.12/site-packages/scipy/optimize/_slsqp_py.py:383\u001b[0m, in \u001b[0;36m_minimize_slsqp\u001b[0;34m(func, x0, args, jac, bounds, constraints, maxiter, ftol, iprint, disp, eps, callback, finite_diff_rel_step, **unknown_options)\u001b[0m\n\u001b[1;32m    380\u001b[0m     xu[infbnd[:, \u001b[38;5;241m1\u001b[39m]] \u001b[38;5;241m=\u001b[39m np\u001b[38;5;241m.\u001b[39mnan\n\u001b[1;32m    382\u001b[0m \u001b[38;5;66;03m# ScalarFunction provides function and gradient evaluation\u001b[39;00m\n\u001b[0;32m--> 383\u001b[0m sf \u001b[38;5;241m=\u001b[39m \u001b[43m_prepare_scalar_function\u001b[49m\u001b[43m(\u001b[49m\u001b[43mfunc\u001b[49m\u001b[43m,\u001b[49m\u001b[43m \u001b[49m\u001b[43mx\u001b[49m\u001b[43m,\u001b[49m\u001b[43m \u001b[49m\u001b[43mjac\u001b[49m\u001b[38;5;241;43m=\u001b[39;49m\u001b[43mjac\u001b[49m\u001b[43m,\u001b[49m\u001b[43m \u001b[49m\u001b[43margs\u001b[49m\u001b[38;5;241;43m=\u001b[39;49m\u001b[43margs\u001b[49m\u001b[43m,\u001b[49m\u001b[43m \u001b[49m\u001b[43mepsilon\u001b[49m\u001b[38;5;241;43m=\u001b[39;49m\u001b[43meps\u001b[49m\u001b[43m,\u001b[49m\n\u001b[1;32m    384\u001b[0m \u001b[43m                              \u001b[49m\u001b[43mfinite_diff_rel_step\u001b[49m\u001b[38;5;241;43m=\u001b[39;49m\u001b[43mfinite_diff_rel_step\u001b[49m\u001b[43m,\u001b[49m\n\u001b[1;32m    385\u001b[0m \u001b[43m                              \u001b[49m\u001b[43mbounds\u001b[49m\u001b[38;5;241;43m=\u001b[39;49m\u001b[43mnew_bounds\u001b[49m\u001b[43m)\u001b[49m\n\u001b[1;32m    386\u001b[0m \u001b[38;5;66;03m# gh11403 SLSQP sometimes exceeds bounds by 1 or 2 ULP, make sure this\u001b[39;00m\n\u001b[1;32m    387\u001b[0m \u001b[38;5;66;03m# doesn't get sent to the func/grad evaluator.\u001b[39;00m\n\u001b[1;32m    388\u001b[0m wrapped_fun \u001b[38;5;241m=\u001b[39m _clip_x_for_func(sf\u001b[38;5;241m.\u001b[39mfun, new_bounds)\n",
      "File \u001b[0;32m~/Repos/media-mix-modeling/.venv/lib/python3.12/site-packages/scipy/optimize/_optimize.py:402\u001b[0m, in \u001b[0;36m_prepare_scalar_function\u001b[0;34m(fun, x0, jac, args, bounds, epsilon, finite_diff_rel_step, hess)\u001b[0m\n\u001b[1;32m    398\u001b[0m     bounds \u001b[38;5;241m=\u001b[39m (\u001b[38;5;241m-\u001b[39mnp\u001b[38;5;241m.\u001b[39minf, np\u001b[38;5;241m.\u001b[39minf)\n\u001b[1;32m    400\u001b[0m \u001b[38;5;66;03m# ScalarFunction caches. Reuse of fun(x) during grad\u001b[39;00m\n\u001b[1;32m    401\u001b[0m \u001b[38;5;66;03m# calculation reduces overall function evaluations.\u001b[39;00m\n\u001b[0;32m--> 402\u001b[0m sf \u001b[38;5;241m=\u001b[39m \u001b[43mScalarFunction\u001b[49m\u001b[43m(\u001b[49m\u001b[43mfun\u001b[49m\u001b[43m,\u001b[49m\u001b[43m \u001b[49m\u001b[43mx0\u001b[49m\u001b[43m,\u001b[49m\u001b[43m \u001b[49m\u001b[43margs\u001b[49m\u001b[43m,\u001b[49m\u001b[43m \u001b[49m\u001b[43mgrad\u001b[49m\u001b[43m,\u001b[49m\u001b[43m \u001b[49m\u001b[43mhess\u001b[49m\u001b[43m,\u001b[49m\n\u001b[1;32m    403\u001b[0m \u001b[43m                    \u001b[49m\u001b[43mfinite_diff_rel_step\u001b[49m\u001b[43m,\u001b[49m\u001b[43m \u001b[49m\u001b[43mbounds\u001b[49m\u001b[43m,\u001b[49m\u001b[43m \u001b[49m\u001b[43mepsilon\u001b[49m\u001b[38;5;241;43m=\u001b[39;49m\u001b[43mepsilon\u001b[49m\u001b[43m)\u001b[49m\n\u001b[1;32m    405\u001b[0m \u001b[38;5;28;01mreturn\u001b[39;00m sf\n",
      "File \u001b[0;32m~/Repos/media-mix-modeling/.venv/lib/python3.12/site-packages/scipy/optimize/_differentiable_functions.py:166\u001b[0m, in \u001b[0;36mScalarFunction.__init__\u001b[0;34m(self, fun, x0, args, grad, hess, finite_diff_rel_step, finite_diff_bounds, epsilon)\u001b[0m\n\u001b[1;32m    163\u001b[0m     \u001b[38;5;28mself\u001b[39m\u001b[38;5;241m.\u001b[39mf \u001b[38;5;241m=\u001b[39m fun_wrapped(\u001b[38;5;28mself\u001b[39m\u001b[38;5;241m.\u001b[39mx)\n\u001b[1;32m    165\u001b[0m \u001b[38;5;28mself\u001b[39m\u001b[38;5;241m.\u001b[39m_update_fun_impl \u001b[38;5;241m=\u001b[39m update_fun\n\u001b[0;32m--> 166\u001b[0m \u001b[38;5;28;43mself\u001b[39;49m\u001b[38;5;241;43m.\u001b[39;49m\u001b[43m_update_fun\u001b[49m\u001b[43m(\u001b[49m\u001b[43m)\u001b[49m\n\u001b[1;32m    168\u001b[0m \u001b[38;5;66;03m# Gradient evaluation\u001b[39;00m\n\u001b[1;32m    169\u001b[0m \u001b[38;5;28;01mif\u001b[39;00m \u001b[38;5;28mcallable\u001b[39m(grad):\n",
      "File \u001b[0;32m~/Repos/media-mix-modeling/.venv/lib/python3.12/site-packages/scipy/optimize/_differentiable_functions.py:262\u001b[0m, in \u001b[0;36mScalarFunction._update_fun\u001b[0;34m(self)\u001b[0m\n\u001b[1;32m    260\u001b[0m \u001b[38;5;28;01mdef\u001b[39;00m\u001b[38;5;250m \u001b[39m\u001b[38;5;21m_update_fun\u001b[39m(\u001b[38;5;28mself\u001b[39m):\n\u001b[1;32m    261\u001b[0m     \u001b[38;5;28;01mif\u001b[39;00m \u001b[38;5;129;01mnot\u001b[39;00m \u001b[38;5;28mself\u001b[39m\u001b[38;5;241m.\u001b[39mf_updated:\n\u001b[0;32m--> 262\u001b[0m         \u001b[38;5;28;43mself\u001b[39;49m\u001b[38;5;241;43m.\u001b[39;49m\u001b[43m_update_fun_impl\u001b[49m\u001b[43m(\u001b[49m\u001b[43m)\u001b[49m\n\u001b[1;32m    263\u001b[0m         \u001b[38;5;28mself\u001b[39m\u001b[38;5;241m.\u001b[39mf_updated \u001b[38;5;241m=\u001b[39m \u001b[38;5;28;01mTrue\u001b[39;00m\n",
      "File \u001b[0;32m~/Repos/media-mix-modeling/.venv/lib/python3.12/site-packages/scipy/optimize/_differentiable_functions.py:163\u001b[0m, in \u001b[0;36mScalarFunction.__init__.<locals>.update_fun\u001b[0;34m()\u001b[0m\n\u001b[1;32m    162\u001b[0m \u001b[38;5;28;01mdef\u001b[39;00m\u001b[38;5;250m \u001b[39m\u001b[38;5;21mupdate_fun\u001b[39m():\n\u001b[0;32m--> 163\u001b[0m     \u001b[38;5;28mself\u001b[39m\u001b[38;5;241m.\u001b[39mf \u001b[38;5;241m=\u001b[39m \u001b[43mfun_wrapped\u001b[49m\u001b[43m(\u001b[49m\u001b[38;5;28;43mself\u001b[39;49m\u001b[38;5;241;43m.\u001b[39;49m\u001b[43mx\u001b[49m\u001b[43m)\u001b[49m\n",
      "File \u001b[0;32m~/Repos/media-mix-modeling/.venv/lib/python3.12/site-packages/scipy/optimize/_differentiable_functions.py:145\u001b[0m, in \u001b[0;36mScalarFunction.__init__.<locals>.fun_wrapped\u001b[0;34m(x)\u001b[0m\n\u001b[1;32m    141\u001b[0m \u001b[38;5;28mself\u001b[39m\u001b[38;5;241m.\u001b[39mnfev \u001b[38;5;241m+\u001b[39m\u001b[38;5;241m=\u001b[39m \u001b[38;5;241m1\u001b[39m\n\u001b[1;32m    142\u001b[0m \u001b[38;5;66;03m# Send a copy because the user may overwrite it.\u001b[39;00m\n\u001b[1;32m    143\u001b[0m \u001b[38;5;66;03m# Overwriting results in undefined behaviour because\u001b[39;00m\n\u001b[1;32m    144\u001b[0m \u001b[38;5;66;03m# fun(self.x) will change self.x, with the two no longer linked.\u001b[39;00m\n\u001b[0;32m--> 145\u001b[0m fx \u001b[38;5;241m=\u001b[39m \u001b[43mfun\u001b[49m\u001b[43m(\u001b[49m\u001b[43mnp\u001b[49m\u001b[38;5;241;43m.\u001b[39;49m\u001b[43mcopy\u001b[49m\u001b[43m(\u001b[49m\u001b[43mx\u001b[49m\u001b[43m)\u001b[49m\u001b[43m,\u001b[49m\u001b[43m \u001b[49m\u001b[38;5;241;43m*\u001b[39;49m\u001b[43margs\u001b[49m\u001b[43m)\u001b[49m\n\u001b[1;32m    146\u001b[0m \u001b[38;5;66;03m# Make sure the function returns a true scalar\u001b[39;00m\n\u001b[1;32m    147\u001b[0m \u001b[38;5;28;01mif\u001b[39;00m \u001b[38;5;129;01mnot\u001b[39;00m np\u001b[38;5;241m.\u001b[39misscalar(fx):\n",
      "Cell \u001b[0;32mIn[23], line 39\u001b[0m, in \u001b[0;36mobjective_function\u001b[0;34m(spend_values, media_cols, total_budget, model, X_avg, feature_cols)\u001b[0m\n\u001b[1;32m     36\u001b[0m     \u001b[38;5;28;01mreturn\u001b[39;00m \u001b[38;5;241m1e10\u001b[39m  \u001b[38;5;66;03m# Large penalty for exceeding budget\u001b[39;00m\n\u001b[1;32m     38\u001b[0m \u001b[38;5;66;03m# Convert original spend to transformed values\u001b[39;00m\n\u001b[0;32m---> 39\u001b[0m transformed_values \u001b[38;5;241m=\u001b[39m \u001b[43moriginal_to_transformed\u001b[49m\u001b[43m(\u001b[49m\u001b[43mspend_values\u001b[49m\u001b[43m,\u001b[49m\u001b[43m \u001b[49m\u001b[43mmedia_cols\u001b[49m\u001b[43m)\u001b[49m\n\u001b[1;32m     41\u001b[0m \u001b[38;5;66;03m# Create prediction array\u001b[39;00m\n\u001b[1;32m     42\u001b[0m X_pred \u001b[38;5;241m=\u001b[39m X_avg\u001b[38;5;241m.\u001b[39mcopy()\n",
      "Cell \u001b[0;32mIn[23], line 8\u001b[0m, in \u001b[0;36moriginal_to_transformed\u001b[0;34m(spend_values, media_cols)\u001b[0m\n\u001b[1;32m      4\u001b[0m transformed_values \u001b[38;5;241m=\u001b[39m []\n\u001b[1;32m      6\u001b[0m \u001b[38;5;28;01mfor\u001b[39;00m i, col \u001b[38;5;129;01min\u001b[39;00m \u001b[38;5;28menumerate\u001b[39m(media_cols):\n\u001b[1;32m      7\u001b[0m     \u001b[38;5;66;03m# Apply adstock\u001b[39;00m\n\u001b[0;32m----> 8\u001b[0m     adstocked \u001b[38;5;241m=\u001b[39m \u001b[43mgeometric_adstock\u001b[49m\u001b[43m(\u001b[49m\u001b[43mnp\u001b[49m\u001b[38;5;241;43m.\u001b[39;49m\u001b[43marray\u001b[49m\u001b[43m(\u001b[49m\u001b[43m[\u001b[49m\u001b[43mspend_values\u001b[49m\u001b[43m[\u001b[49m\u001b[43mi\u001b[49m\u001b[43m]\u001b[49m\u001b[43m]\u001b[49m\u001b[43m)\u001b[49m\u001b[43m)\u001b[49m\u001b[38;5;241m.\u001b[39meval()\n\u001b[1;32m     10\u001b[0m     \u001b[38;5;66;03m# Apply hill transformation with stored parameters\u001b[39;00m\n\u001b[1;32m     11\u001b[0m     k \u001b[38;5;241m=\u001b[39m saturation_params[col][\u001b[38;5;124m'\u001b[39m\u001b[38;5;124mk\u001b[39m\u001b[38;5;124m'\u001b[39m]\n",
      "File \u001b[0;32m~/Repos/media-mix-modeling/mediamix/transforms.py:22\u001b[0m, in \u001b[0;36mgeometric_adstock\u001b[0;34m(x, alpha, L, normalize)\u001b[0m\n\u001b[1;32m     12\u001b[0m \u001b[38;5;250m\u001b[39m\u001b[38;5;124;03m\"\"\"Geometric Adstock Function.\u001b[39;00m\n\u001b[1;32m     13\u001b[0m \n\u001b[1;32m     14\u001b[0m \u001b[38;5;124;03m:param x: Input media spend vector\u001b[39;00m\n\u001b[0;32m   (...)\u001b[0m\n\u001b[1;32m     18\u001b[0m \u001b[38;5;124;03m:return: Transformed spend vector\u001b[39;00m\n\u001b[1;32m     19\u001b[0m \u001b[38;5;124;03m\"\"\"\u001b[39;00m\n\u001b[1;32m     21\u001b[0m w \u001b[38;5;241m=\u001b[39m tt\u001b[38;5;241m.\u001b[39mas_tensor_variable([tt\u001b[38;5;241m.\u001b[39mpower(alpha, i) \u001b[38;5;28;01mfor\u001b[39;00m i \u001b[38;5;129;01min\u001b[39;00m \u001b[38;5;28mrange\u001b[39m(L)])\n\u001b[0;32m---> 22\u001b[0m xx \u001b[38;5;241m=\u001b[39m \u001b[43mtt\u001b[49m\u001b[38;5;241;43m.\u001b[39;49m\u001b[43mstack\u001b[49m\u001b[43m(\u001b[49m\n\u001b[1;32m     23\u001b[0m \u001b[43m    \u001b[49m\u001b[43m[\u001b[49m\u001b[43mtt\u001b[49m\u001b[38;5;241;43m.\u001b[39;49m\u001b[43mconcatenate\u001b[49m\u001b[43m(\u001b[49m\u001b[43m[\u001b[49m\u001b[43mtt\u001b[49m\u001b[38;5;241;43m.\u001b[39;49m\u001b[43mzeros\u001b[49m\u001b[43m(\u001b[49m\u001b[43mi\u001b[49m\u001b[43m)\u001b[49m\u001b[43m,\u001b[49m\u001b[43m \u001b[49m\u001b[43mx\u001b[49m\u001b[43m[\u001b[49m\u001b[43m:\u001b[49m\u001b[43m \u001b[49m\u001b[43mx\u001b[49m\u001b[38;5;241;43m.\u001b[39;49m\u001b[43mshape\u001b[49m\u001b[43m[\u001b[49m\u001b[38;5;241;43m0\u001b[39;49m\u001b[43m]\u001b[49m\u001b[43m \u001b[49m\u001b[38;5;241;43m-\u001b[39;49m\u001b[43m \u001b[49m\u001b[43mi\u001b[49m\u001b[43m]\u001b[49m\u001b[43m]\u001b[49m\u001b[43m)\u001b[49m\u001b[43m \u001b[49m\u001b[38;5;28;43;01mfor\u001b[39;49;00m\u001b[43m \u001b[49m\u001b[43mi\u001b[49m\u001b[43m \u001b[49m\u001b[38;5;129;43;01min\u001b[39;49;00m\u001b[43m \u001b[49m\u001b[38;5;28;43mrange\u001b[39;49m\u001b[43m(\u001b[49m\u001b[43mL\u001b[49m\u001b[43m)\u001b[49m\u001b[43m]\u001b[49m\n\u001b[1;32m     24\u001b[0m \u001b[43m\u001b[49m\u001b[43m)\u001b[49m\n\u001b[1;32m     26\u001b[0m \u001b[38;5;28;01mif\u001b[39;00m \u001b[38;5;129;01mnot\u001b[39;00m normalize:\n\u001b[1;32m     27\u001b[0m     y \u001b[38;5;241m=\u001b[39m tt\u001b[38;5;241m.\u001b[39mdot(w, xx)\n",
      "File \u001b[0;32m~/Repos/media-mix-modeling/.venv/lib/python3.12/site-packages/pytensor/tensor/basic.py:2948\u001b[0m, in \u001b[0;36mstack\u001b[0;34m(tensors, axis)\u001b[0m\n\u001b[1;32m   2946\u001b[0m     dtype \u001b[38;5;241m=\u001b[39m ps\u001b[38;5;241m.\u001b[39mupcast(\u001b[38;5;241m*\u001b[39m[i\u001b[38;5;241m.\u001b[39mdtype \u001b[38;5;28;01mfor\u001b[39;00m i \u001b[38;5;129;01min\u001b[39;00m tensors])\n\u001b[1;32m   2947\u001b[0m     \u001b[38;5;28;01mreturn\u001b[39;00m MakeVector(dtype)(\u001b[38;5;241m*\u001b[39mtensors)\n\u001b[0;32m-> 2948\u001b[0m \u001b[38;5;28;01mreturn\u001b[39;00m \u001b[43mjoin\u001b[49m\u001b[43m(\u001b[49m\u001b[43maxis\u001b[49m\u001b[43m,\u001b[49m\u001b[43m \u001b[49m\u001b[38;5;241;43m*\u001b[39;49m\u001b[43m[\u001b[49m\u001b[43mshape_padaxis\u001b[49m\u001b[43m(\u001b[49m\u001b[43mt\u001b[49m\u001b[43m,\u001b[49m\u001b[43m \u001b[49m\u001b[43maxis\u001b[49m\u001b[43m)\u001b[49m\u001b[43m \u001b[49m\u001b[38;5;28;43;01mfor\u001b[39;49;00m\u001b[43m \u001b[49m\u001b[43mt\u001b[49m\u001b[43m \u001b[49m\u001b[38;5;129;43;01min\u001b[39;49;00m\u001b[43m \u001b[49m\u001b[43mtensors\u001b[49m\u001b[43m]\u001b[49m\u001b[43m)\u001b[49m\n",
      "File \u001b[0;32m~/Repos/media-mix-modeling/.venv/lib/python3.12/site-packages/pytensor/tensor/basic.py:2790\u001b[0m, in \u001b[0;36mjoin\u001b[0;34m(axis, *tensors_list)\u001b[0m\n\u001b[1;32m   2788\u001b[0m     \u001b[38;5;28;01mreturn\u001b[39;00m tensors_list[\u001b[38;5;241m0\u001b[39m]\n\u001b[1;32m   2789\u001b[0m \u001b[38;5;28;01melse\u001b[39;00m:\n\u001b[0;32m-> 2790\u001b[0m     \u001b[38;5;28;01mreturn\u001b[39;00m \u001b[43mjoin_\u001b[49m\u001b[43m(\u001b[49m\u001b[43maxis\u001b[49m\u001b[43m,\u001b[49m\u001b[43m \u001b[49m\u001b[38;5;241;43m*\u001b[39;49m\u001b[43mtensors_list\u001b[49m\u001b[43m)\u001b[49m\n",
      "File \u001b[0;32m~/Repos/media-mix-modeling/.venv/lib/python3.12/site-packages/pytensor/graph/op.py:293\u001b[0m, in \u001b[0;36mOp.__call__\u001b[0;34m(self, name, return_list, *inputs, **kwargs)\u001b[0m\n\u001b[1;32m    249\u001b[0m \u001b[38;5;28;01mdef\u001b[39;00m\u001b[38;5;250m \u001b[39m\u001b[38;5;21m__call__\u001b[39m(\n\u001b[1;32m    250\u001b[0m     \u001b[38;5;28mself\u001b[39m, \u001b[38;5;241m*\u001b[39minputs: Any, name\u001b[38;5;241m=\u001b[39m\u001b[38;5;28;01mNone\u001b[39;00m, return_list\u001b[38;5;241m=\u001b[39m\u001b[38;5;28;01mFalse\u001b[39;00m, \u001b[38;5;241m*\u001b[39m\u001b[38;5;241m*\u001b[39mkwargs\n\u001b[1;32m    251\u001b[0m ) \u001b[38;5;241m-\u001b[39m\u001b[38;5;241m>\u001b[39m Variable \u001b[38;5;241m|\u001b[39m \u001b[38;5;28mlist\u001b[39m[Variable]:\n\u001b[1;32m    252\u001b[0m \u001b[38;5;250m    \u001b[39m\u001b[38;5;124mr\u001b[39m\u001b[38;5;124;03m\"\"\"Construct an `Apply` node using :meth:`Op.make_node` and return its outputs.\u001b[39;00m\n\u001b[1;32m    253\u001b[0m \n\u001b[1;32m    254\u001b[0m \u001b[38;5;124;03m    This method is just a wrapper around :meth:`Op.make_node`.\u001b[39;00m\n\u001b[0;32m   (...)\u001b[0m\n\u001b[1;32m    291\u001b[0m \n\u001b[1;32m    292\u001b[0m \u001b[38;5;124;03m    \"\"\"\u001b[39;00m\n\u001b[0;32m--> 293\u001b[0m     node \u001b[38;5;241m=\u001b[39m \u001b[38;5;28;43mself\u001b[39;49m\u001b[38;5;241;43m.\u001b[39;49m\u001b[43mmake_node\u001b[49m\u001b[43m(\u001b[49m\u001b[38;5;241;43m*\u001b[39;49m\u001b[43minputs\u001b[49m\u001b[43m,\u001b[49m\u001b[43m \u001b[49m\u001b[38;5;241;43m*\u001b[39;49m\u001b[38;5;241;43m*\u001b[39;49m\u001b[43mkwargs\u001b[49m\u001b[43m)\u001b[49m\n\u001b[1;32m    294\u001b[0m     \u001b[38;5;28;01mif\u001b[39;00m name \u001b[38;5;129;01mis\u001b[39;00m \u001b[38;5;129;01mnot\u001b[39;00m \u001b[38;5;28;01mNone\u001b[39;00m:\n\u001b[1;32m    295\u001b[0m         \u001b[38;5;28;01mif\u001b[39;00m \u001b[38;5;28mlen\u001b[39m(node\u001b[38;5;241m.\u001b[39moutputs) \u001b[38;5;241m==\u001b[39m \u001b[38;5;241m1\u001b[39m:\n",
      "File \u001b[0;32m~/Repos/media-mix-modeling/.venv/lib/python3.12/site-packages/pytensor/tensor/basic.py:2566\u001b[0m, in \u001b[0;36mJoin.make_node\u001b[0;34m(self, axis, *tensors)\u001b[0m\n\u001b[1;32m   2564\u001b[0m                 (out_shape[d],) \u001b[38;5;241m=\u001b[39m inset \u001b[38;5;241m-\u001b[39m {\u001b[38;5;28;01mNone\u001b[39;00m}\n\u001b[1;32m   2565\u001b[0m             \u001b[38;5;28;01melse\u001b[39;00m:\n\u001b[0;32m-> 2566\u001b[0m                 \u001b[38;5;28;01mraise\u001b[39;00m \u001b[38;5;167;01mValueError\u001b[39;00m(\n\u001b[1;32m   2567\u001b[0m                     \u001b[38;5;124mf\u001b[39m\u001b[38;5;124m\"\u001b[39m\u001b[38;5;124mall input array dimensions other than the specified `axis` (\u001b[39m\u001b[38;5;132;01m{\u001b[39;00maxis\u001b[38;5;132;01m}\u001b[39;00m\u001b[38;5;124m)\u001b[39m\u001b[38;5;124m\"\u001b[39m\n\u001b[1;32m   2568\u001b[0m                     \u001b[38;5;124m\"\u001b[39m\u001b[38;5;124m must match exactly, or be unknown (None),\u001b[39m\u001b[38;5;124m\"\u001b[39m\n\u001b[1;32m   2569\u001b[0m                     \u001b[38;5;124mf\u001b[39m\u001b[38;5;124m\"\u001b[39m\u001b[38;5;124m but along dimension \u001b[39m\u001b[38;5;132;01m{\u001b[39;00md\u001b[38;5;132;01m}\u001b[39;00m\u001b[38;5;124m, the inputs shapes are incompatible: \u001b[39m\u001b[38;5;132;01m{\u001b[39;00mins\u001b[38;5;132;01m}\u001b[39;00m\u001b[38;5;124m\"\u001b[39m\n\u001b[1;32m   2570\u001b[0m                 )\n\u001b[1;32m   2571\u001b[0m \u001b[38;5;28;01melse\u001b[39;00m:\n\u001b[1;32m   2572\u001b[0m     \u001b[38;5;66;03m# When the axis may vary, no dimension can be guaranteed to be\u001b[39;00m\n\u001b[1;32m   2573\u001b[0m     \u001b[38;5;66;03m# broadcastable.\u001b[39;00m\n\u001b[1;32m   2574\u001b[0m     out_shape \u001b[38;5;241m=\u001b[39m [\u001b[38;5;28;01mNone\u001b[39;00m] \u001b[38;5;241m*\u001b[39m tensors[\u001b[38;5;241m0\u001b[39m]\u001b[38;5;241m.\u001b[39mtype\u001b[38;5;241m.\u001b[39mndim\n",
      "\u001b[0;31mValueError\u001b[0m: all input array dimensions other than the specified `axis` (0) must match exactly, or be unknown (None), but along dimension 1, the inputs shapes are incompatible: [ 1  1  2  3  4  5  6  7  8  9 10 11]"
     ]
    }
   ],
   "source": [
    "\n",
    "\n",
    "# Compare current vs. optimized allocation\n",
    "comparison = pd.DataFrame({\n",
    "    'Channel': col_sets['media_spend'],\n",
    "    'Current Spend': df[col_sets['media_spend']].mean().values,\n",
    "    'Optimized Spend': optimal_allocation,\n",
    "    'Change %': ((optimal_allocation / df[col_sets['media_spend']].mean().values) - 1) * 100\n",
    "})\n",
    "\n",
    "print(\"Budget Optimization Results:\")\n",
    "print(comparison)\n",
    "\n",
    "# # Visualize the comparison\n",
    "# comparison_melted = pd.melt(comparison,\n",
    "#                            id_vars='Channel',\n",
    "#                            value_vars=['Current Spend', 'Optimized Spend'], \n",
    "#                            var_name='Allocation',\n",
    "#                            value_name='Spend')\n",
    "\n",
    "# fig = px.bar(comparison_melted,\n",
    "#              x='Channel',\n",
    "#              y='Spend',\n",
    "#              color='Allocation',\n",
    "#              barmode='group',\n",
    "#     )\n",
    "\n",
    "# fig.update_layout(\n",
    "#     xaxis_tickangle=45,\n",
    "#     showlegend=True,\n",
    "#     height=400,\n",
    "#     width=800,\n",
    "#     margin=dict(t=50, l=50, r=50, b=100)\n",
    "# )\n",
    "\n",
    "# fig.show()\n"
   ]
  }
 ],
 "metadata": {
  "kernelspec": {
   "display_name": ".venv",
   "language": "python",
   "name": "python3"
  },
  "language_info": {
   "codemirror_mode": {
    "name": "ipython",
    "version": 3
   },
   "file_extension": ".py",
   "mimetype": "text/x-python",
   "name": "python",
   "nbconvert_exporter": "python",
   "pygments_lexer": "ipython3",
   "version": "3.12.9"
  }
 },
 "nbformat": 4,
 "nbformat_minor": 2
}
